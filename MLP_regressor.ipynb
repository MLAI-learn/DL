{
 "cells": [
  {
   "cell_type": "markdown",
   "metadata": {},
   "source": [
    "Building MLP regressor using sequential API"
   ]
  },
  {
   "cell_type": "code",
   "execution_count": 1,
   "metadata": {},
   "outputs": [],
   "source": [
    "import tensorflow as tf\n",
    "import pandas as pd\n",
    "from sklearn.model_selection import train_test_split"
   ]
  },
  {
   "cell_type": "code",
   "execution_count": null,
   "metadata": {},
   "outputs": [],
   "source": [
    "\n"
   ]
  },
  {
   "cell_type": "markdown",
   "metadata": {},
   "source": [
    "Loading the data"
   ]
  },
  {
   "cell_type": "code",
   "execution_count": 2,
   "metadata": {},
   "outputs": [],
   "source": [
    "df=pd.read_csv('housing.csv')"
   ]
  },
  {
   "cell_type": "code",
   "execution_count": 3,
   "metadata": {},
   "outputs": [
    {
     "name": "stdout",
     "output_type": "stream",
     "text": [
      "<class 'pandas.core.frame.DataFrame'>\n",
      "RangeIndex: 20640 entries, 0 to 20639\n",
      "Data columns (total 10 columns):\n",
      " #   Column              Non-Null Count  Dtype  \n",
      "---  ------              --------------  -----  \n",
      " 0   longitude           20640 non-null  float64\n",
      " 1   latitude            20640 non-null  float64\n",
      " 2   housing_median_age  20640 non-null  float64\n",
      " 3   total_rooms         20640 non-null  float64\n",
      " 4   total_bedrooms      20433 non-null  float64\n",
      " 5   population          20640 non-null  float64\n",
      " 6   households          20640 non-null  float64\n",
      " 7   median_income       20640 non-null  float64\n",
      " 8   median_house_value  20640 non-null  float64\n",
      " 9   ocean_proximity     20640 non-null  object \n",
      "dtypes: float64(9), object(1)\n",
      "memory usage: 1.6+ MB\n"
     ]
    }
   ],
   "source": [
    "df.info()"
   ]
  },
  {
   "cell_type": "code",
   "execution_count": 4,
   "metadata": {},
   "outputs": [],
   "source": [
    "df1=df.dropna()"
   ]
  },
  {
   "cell_type": "code",
   "execution_count": 5,
   "metadata": {},
   "outputs": [
    {
     "name": "stdout",
     "output_type": "stream",
     "text": [
      "   longitude  latitude  housing_median_age  total_rooms  total_bedrooms  \\\n",
      "0    -122.23     37.88                41.0        880.0           129.0   \n",
      "1    -122.22     37.86                21.0       7099.0          1106.0   \n",
      "2    -122.24     37.85                52.0       1467.0           190.0   \n",
      "3    -122.25     37.85                52.0       1274.0           235.0   \n",
      "4    -122.25     37.85                52.0       1627.0           280.0   \n",
      "\n",
      "   population  households  median_income  median_house_value  \\\n",
      "0       322.0       126.0         8.3252            452600.0   \n",
      "1      2401.0      1138.0         8.3014            358500.0   \n",
      "2       496.0       177.0         7.2574            352100.0   \n",
      "3       558.0       219.0         5.6431            341300.0   \n",
      "4       565.0       259.0         3.8462            342200.0   \n",
      "\n",
      "   ocean_proximity_<1H OCEAN  ocean_proximity_INLAND  ocean_proximity_ISLAND  \\\n",
      "0                      False                   False                   False   \n",
      "1                      False                   False                   False   \n",
      "2                      False                   False                   False   \n",
      "3                      False                   False                   False   \n",
      "4                      False                   False                   False   \n",
      "\n",
      "   ocean_proximity_NEAR BAY  ocean_proximity_NEAR OCEAN  \n",
      "0                      True                       False  \n",
      "1                      True                       False  \n",
      "2                      True                       False  \n",
      "3                      True                       False  \n",
      "4                      True                       False  \n"
     ]
    }
   ],
   "source": [
    "df_encoded = pd.get_dummies(df1, columns=['ocean_proximity'])\n",
    "print(df_encoded.head())"
   ]
  },
  {
   "cell_type": "code",
   "execution_count": 8,
   "metadata": {},
   "outputs": [
    {
     "name": "stdout",
     "output_type": "stream",
     "text": [
      "<class 'pandas.core.frame.DataFrame'>\n",
      "Index: 20433 entries, 0 to 20639\n",
      "Data columns (total 14 columns):\n",
      " #   Column                      Non-Null Count  Dtype  \n",
      "---  ------                      --------------  -----  \n",
      " 0   longitude                   20433 non-null  float64\n",
      " 1   latitude                    20433 non-null  float64\n",
      " 2   housing_median_age          20433 non-null  float64\n",
      " 3   total_rooms                 20433 non-null  float64\n",
      " 4   total_bedrooms              20433 non-null  float64\n",
      " 5   population                  20433 non-null  float64\n",
      " 6   households                  20433 non-null  float64\n",
      " 7   median_income               20433 non-null  float64\n",
      " 8   median_house_value          20433 non-null  float64\n",
      " 9   ocean_proximity_<1H OCEAN   20433 non-null  int32  \n",
      " 10  ocean_proximity_INLAND      20433 non-null  int32  \n",
      " 11  ocean_proximity_ISLAND      20433 non-null  int32  \n",
      " 12  ocean_proximity_NEAR BAY    20433 non-null  int32  \n",
      " 13  ocean_proximity_NEAR OCEAN  20433 non-null  int32  \n",
      "dtypes: float64(9), int32(5)\n",
      "memory usage: 1.9 MB\n"
     ]
    }
   ],
   "source": [
    "# Identify boolean columns\n",
    "bool_columns = df_encoded.select_dtypes(include='bool').columns\n",
    "\n",
    "# Convert those columns to integers\n",
    "df_encoded[bool_columns] = df_encoded[bool_columns].astype(int)\n",
    "df_encoded.info()"
   ]
  },
  {
   "cell_type": "code",
   "execution_count": 9,
   "metadata": {},
   "outputs": [
    {
     "name": "stdout",
     "output_type": "stream",
     "text": [
      "(20433, 13)\n",
      "(20433,)\n"
     ]
    }
   ],
   "source": [
    "X = df_encoded.drop(columns=['median_house_value'])\n",
    "y = df_encoded['median_house_value']\n",
    "print(X.shape)\n",
    "print(y.shape)"
   ]
  },
  {
   "cell_type": "code",
   "execution_count": 10,
   "metadata": {},
   "outputs": [],
   "source": [
    "X_train, X_test, y_train, y_test = train_test_split(X, y, test_size=0.2, random_state=113)"
   ]
  },
  {
   "cell_type": "code",
   "execution_count": 11,
   "metadata": {},
   "outputs": [],
   "source": [
    "x_train,y_train = X_train[:-200],y_train[:-200]\n",
    "x_valid,y_valid = X_train[-200:],y_train[-200:]"
   ]
  },
  {
   "cell_type": "code",
   "execution_count": 12,
   "metadata": {},
   "outputs": [
    {
     "data": {
      "text/plain": [
       "((16146, 13), (16146,), (200, 13), (200,), (4087, 13), (4087,))"
      ]
     },
     "execution_count": 12,
     "metadata": {},
     "output_type": "execute_result"
    }
   ],
   "source": [
    "x_train.shape,y_train.shape,x_valid.shape,y_valid.shape,X_test.shape,y_test.shape"
   ]
  },
  {
   "cell_type": "code",
   "execution_count": 13,
   "metadata": {},
   "outputs": [],
   "source": [
    "tf.random.set_seed(42)\n",
    "norm_layer = tf.keras.layers.Normalization(input_shape=x_train.shape[1:])\n",
    "model = tf.keras.Sequential([\n",
    "norm_layer,\n",
    "tf.keras.layers.Dense(50, activation=\"relu\"),\n",
    "tf.keras.layers.Dense(50, activation=\"relu\"),\n",
    "tf.keras.layers.Dense(50, activation=\"relu\"),\n",
    "tf.keras.layers.Dense(1)\n",
    "])"
   ]
  },
  {
   "cell_type": "code",
   "execution_count": 14,
   "metadata": {},
   "outputs": [],
   "source": [
    "optimizer = tf.keras.optimizers.Adam(learning_rate=1e-3)\n",
    "model.compile(loss=\"mse\", optimizer=optimizer, metrics=[\"RootMeanSquaredError\"])\n",
    "norm_layer.adapt(x_train)"
   ]
  },
  {
   "cell_type": "code",
   "execution_count": 15,
   "metadata": {},
   "outputs": [
    {
     "name": "stdout",
     "output_type": "stream",
     "text": [
      "Epoch 1/20\n",
      "505/505 [==============================] - 5s 5ms/step - loss: 44143443968.0000 - root_mean_squared_error: 210103.4062 - val_loss: 20841613312.0000 - val_root_mean_squared_error: 144366.2500\n",
      "Epoch 2/20\n",
      "505/505 [==============================] - 2s 5ms/step - loss: 9090362368.0000 - root_mean_squared_error: 95343.3906 - val_loss: 18580893696.0000 - val_root_mean_squared_error: 136311.7500\n",
      "Epoch 3/20\n",
      "505/505 [==============================] - 3s 5ms/step - loss: 6831063552.0000 - root_mean_squared_error: 82650.2500 - val_loss: 18245304320.0000 - val_root_mean_squared_error: 135075.1875\n",
      "Epoch 4/20\n",
      "505/505 [==============================] - 3s 5ms/step - loss: 5863752192.0000 - root_mean_squared_error: 76575.1406 - val_loss: 17966045184.0000 - val_root_mean_squared_error: 134037.4844\n",
      "Epoch 5/20\n",
      "505/505 [==============================] - 3s 5ms/step - loss: 5348780032.0000 - root_mean_squared_error: 73135.3516 - val_loss: 17731411968.0000 - val_root_mean_squared_error: 133159.3438\n",
      "Epoch 6/20\n",
      "505/505 [==============================] - 3s 5ms/step - loss: 5066248192.0000 - root_mean_squared_error: 71177.5781 - val_loss: 17613619200.0000 - val_root_mean_squared_error: 132716.3125\n",
      "Epoch 7/20\n",
      "505/505 [==============================] - 3s 5ms/step - loss: 4895694848.0000 - root_mean_squared_error: 69969.2422 - val_loss: 17549029376.0000 - val_root_mean_squared_error: 132472.7500\n",
      "Epoch 8/20\n",
      "505/505 [==============================] - 3s 5ms/step - loss: 4777297408.0000 - root_mean_squared_error: 69117.9922 - val_loss: 17788987392.0000 - val_root_mean_squared_error: 133375.3594\n",
      "Epoch 9/20\n",
      "505/505 [==============================] - 3s 5ms/step - loss: 4686443520.0000 - root_mean_squared_error: 68457.6016 - val_loss: 17700362240.0000 - val_root_mean_squared_error: 133042.7031\n",
      "Epoch 10/20\n",
      "505/505 [==============================] - 3s 5ms/step - loss: 4619225600.0000 - root_mean_squared_error: 67964.8828 - val_loss: 17804367872.0000 - val_root_mean_squared_error: 133433.0000\n",
      "Epoch 11/20\n",
      "505/505 [==============================] - 3s 5ms/step - loss: 4563778048.0000 - root_mean_squared_error: 67555.7422 - val_loss: 17730297856.0000 - val_root_mean_squared_error: 133155.1562\n",
      "Epoch 12/20\n",
      "505/505 [==============================] - 3s 5ms/step - loss: 4522061824.0000 - root_mean_squared_error: 67246.2734 - val_loss: 17714419712.0000 - val_root_mean_squared_error: 133095.5312\n",
      "Epoch 13/20\n",
      "505/505 [==============================] - 3s 5ms/step - loss: 4484959232.0000 - root_mean_squared_error: 66969.8359 - val_loss: 17597052928.0000 - val_root_mean_squared_error: 132653.8750\n",
      "Epoch 14/20\n",
      "505/505 [==============================] - 3s 5ms/step - loss: 4452260352.0000 - root_mean_squared_error: 66725.2578 - val_loss: 17716742144.0000 - val_root_mean_squared_error: 133104.2500\n",
      "Epoch 15/20\n",
      "505/505 [==============================] - 3s 5ms/step - loss: 4425953280.0000 - root_mean_squared_error: 66527.8359 - val_loss: 17856194560.0000 - val_root_mean_squared_error: 133627.0625\n",
      "Epoch 16/20\n",
      "505/505 [==============================] - 3s 5ms/step - loss: 4410701312.0000 - root_mean_squared_error: 66413.1094 - val_loss: 17757325312.0000 - val_root_mean_squared_error: 133256.6094\n",
      "Epoch 17/20\n",
      "505/505 [==============================] - 2s 5ms/step - loss: 4380538368.0000 - root_mean_squared_error: 66185.6328 - val_loss: 17777952768.0000 - val_root_mean_squared_error: 133333.9844\n",
      "Epoch 18/20\n",
      "505/505 [==============================] - 3s 5ms/step - loss: 4366573568.0000 - root_mean_squared_error: 66080.0547 - val_loss: 17654401024.0000 - val_root_mean_squared_error: 132869.8594\n",
      "Epoch 19/20\n",
      "505/505 [==============================] - 2s 5ms/step - loss: 4351250432.0000 - root_mean_squared_error: 65964.0078 - val_loss: 17669965824.0000 - val_root_mean_squared_error: 132928.4219\n",
      "Epoch 20/20\n",
      "505/505 [==============================] - 2s 5ms/step - loss: 4340018176.0000 - root_mean_squared_error: 65878.8125 - val_loss: 17867952128.0000 - val_root_mean_squared_error: 133671.0625\n"
     ]
    }
   ],
   "source": [
    "history = model.fit(x_train, y_train, epochs=20,\n",
    "validation_data=(x_valid, y_valid))"
   ]
  },
  {
   "cell_type": "code",
   "execution_count": 16,
   "metadata": {},
   "outputs": [
    {
     "name": "stdout",
     "output_type": "stream",
     "text": [
      "128/128 [==============================] - 1s 4ms/step - loss: 4373135872.0000 - root_mean_squared_error: 66129.6875\n"
     ]
    }
   ],
   "source": [
    "mse_test, rmse_test = model.evaluate(X_test, y_test)"
   ]
  },
  {
   "cell_type": "code",
   "execution_count": 17,
   "metadata": {},
   "outputs": [
    {
     "name": "stdout",
     "output_type": "stream",
     "text": [
      "1/1 [==============================] - 0s 123ms/step\n"
     ]
    }
   ],
   "source": [
    "x_new = X_test[:3]\n",
    "y_pred = model.predict(x_new)"
   ]
  },
  {
   "cell_type": "code",
   "execution_count": 24,
   "metadata": {},
   "outputs": [
    {
     "data": {
      "text/html": [
       "<div>\n",
       "<style scoped>\n",
       "    .dataframe tbody tr th:only-of-type {\n",
       "        vertical-align: middle;\n",
       "    }\n",
       "\n",
       "    .dataframe tbody tr th {\n",
       "        vertical-align: top;\n",
       "    }\n",
       "\n",
       "    .dataframe thead th {\n",
       "        text-align: right;\n",
       "    }\n",
       "</style>\n",
       "<table border=\"1\" class=\"dataframe\">\n",
       "  <thead>\n",
       "    <tr style=\"text-align: right;\">\n",
       "      <th></th>\n",
       "      <th>Predicted</th>\n",
       "      <th>Actual</th>\n",
       "    </tr>\n",
       "  </thead>\n",
       "  <tbody>\n",
       "    <tr>\n",
       "      <th>0</th>\n",
       "      <td>120012.87500</td>\n",
       "      <td>151700.0</td>\n",
       "    </tr>\n",
       "    <tr>\n",
       "      <th>1</th>\n",
       "      <td>404686.62500</td>\n",
       "      <td>260600.0</td>\n",
       "    </tr>\n",
       "    <tr>\n",
       "      <th>2</th>\n",
       "      <td>184703.78125</td>\n",
       "      <td>144800.0</td>\n",
       "    </tr>\n",
       "  </tbody>\n",
       "</table>\n",
       "</div>"
      ],
      "text/plain": [
       "      Predicted    Actual\n",
       "0  120012.87500  151700.0\n",
       "1  404686.62500  260600.0\n",
       "2  184703.78125  144800.0"
      ]
     },
     "execution_count": 24,
     "metadata": {},
     "output_type": "execute_result"
    }
   ],
   "source": [
    "dfp = pd.DataFrame(y_pred, columns=['Predicted'])\n",
    "dfp['Actual'] = y_test[:3].values\n",
    "\n",
    "dfp"
   ]
  }
 ],
 "metadata": {
  "kernelspec": {
   "display_name": "gputf_env",
   "language": "python",
   "name": "python3"
  },
  "language_info": {
   "codemirror_mode": {
    "name": "ipython",
    "version": 3
   },
   "file_extension": ".py",
   "mimetype": "text/x-python",
   "name": "python",
   "nbconvert_exporter": "python",
   "pygments_lexer": "ipython3",
   "version": "3.10.16"
  }
 },
 "nbformat": 4,
 "nbformat_minor": 2
}
