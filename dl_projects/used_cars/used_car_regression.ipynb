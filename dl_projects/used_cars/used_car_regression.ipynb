{
 "cells": [
  {
   "cell_type": "markdown",
   "metadata": {},
   "source": [
    "# Prediction of used car prices "
   ]
  },
  {
   "cell_type": "markdown",
   "metadata": {},
   "source": [
    "Loading required libraries"
   ]
  },
  {
   "cell_type": "code",
   "execution_count": 1,
   "metadata": {},
   "outputs": [],
   "source": [
    "import numpy as np\n",
    "import pandas as pd\n",
    "import seaborn as sns\n",
    "import matplotlib.pyplot as plt\n",
    "from sklearn.preprocessing import StandardScaler\n",
    "import tensorflow as tf\n",
    "\n",
    "from sklearn.metrics import r2_score\n"
   ]
  },
  {
   "cell_type": "markdown",
   "metadata": {},
   "source": [
    "# Import Data"
   ]
  },
  {
   "cell_type": "code",
   "execution_count": 2,
   "metadata": {},
   "outputs": [
    {
     "data": {
      "text/plain": [
       "((50000, 17), (27000, 17))"
      ]
     },
     "execution_count": 2,
     "metadata": {},
     "output_type": "execute_result"
    }
   ],
   "source": [
    "df_tr=pd.read_csv('data_train.csv')\n",
    "df_te=pd.read_csv('data_test.csv')\n",
    "df_tr.shape, df_te.shape"
   ]
  },
  {
   "cell_type": "code",
   "execution_count": 3,
   "metadata": {},
   "outputs": [
    {
     "data": {
      "text/html": [
       "<div>\n",
       "<style scoped>\n",
       "    .dataframe tbody tr th:only-of-type {\n",
       "        vertical-align: middle;\n",
       "    }\n",
       "\n",
       "    .dataframe tbody tr th {\n",
       "        vertical-align: top;\n",
       "    }\n",
       "\n",
       "    .dataframe thead th {\n",
       "        text-align: right;\n",
       "    }\n",
       "</style>\n",
       "<table border=\"1\" class=\"dataframe\">\n",
       "  <thead>\n",
       "    <tr style=\"text-align: right;\">\n",
       "      <th></th>\n",
       "      <th>manufacturer_name</th>\n",
       "      <th>transmission</th>\n",
       "      <th>color</th>\n",
       "      <th>odometer_value</th>\n",
       "      <th>year_produced</th>\n",
       "      <th>engine_fuel</th>\n",
       "      <th>engine_type</th>\n",
       "      <th>engine_capacity</th>\n",
       "      <th>body_type</th>\n",
       "      <th>has_warranty</th>\n",
       "      <th>ownership</th>\n",
       "      <th>type_of_drive</th>\n",
       "      <th>is_exchangeable</th>\n",
       "      <th>number_of_photos</th>\n",
       "      <th>number_of_maintenance</th>\n",
       "      <th>duration_listed</th>\n",
       "      <th>price_usd</th>\n",
       "    </tr>\n",
       "  </thead>\n",
       "  <tbody>\n",
       "    <tr>\n",
       "      <th>0</th>\n",
       "      <td>Volkswagen</td>\n",
       "      <td>automatic</td>\n",
       "      <td>black</td>\n",
       "      <td>130000</td>\n",
       "      <td>2016</td>\n",
       "      <td>diesel</td>\n",
       "      <td>diesel</td>\n",
       "      <td>1.6</td>\n",
       "      <td>universal</td>\n",
       "      <td>False</td>\n",
       "      <td>owned</td>\n",
       "      <td>front</td>\n",
       "      <td>True</td>\n",
       "      <td>17</td>\n",
       "      <td>38</td>\n",
       "      <td>67</td>\n",
       "      <td>13150.0</td>\n",
       "    </tr>\n",
       "    <tr>\n",
       "      <th>1</th>\n",
       "      <td>Renault</td>\n",
       "      <td>manual</td>\n",
       "      <td>brown</td>\n",
       "      <td>149000</td>\n",
       "      <td>2012</td>\n",
       "      <td>gasoline</td>\n",
       "      <td>gasoline</td>\n",
       "      <td>1.6</td>\n",
       "      <td>sedan</td>\n",
       "      <td>False</td>\n",
       "      <td>owned</td>\n",
       "      <td>front</td>\n",
       "      <td>False</td>\n",
       "      <td>9</td>\n",
       "      <td>3</td>\n",
       "      <td>100</td>\n",
       "      <td>7500.0</td>\n",
       "    </tr>\n",
       "    <tr>\n",
       "      <th>2</th>\n",
       "      <td>Kia</td>\n",
       "      <td>automatic</td>\n",
       "      <td>brown</td>\n",
       "      <td>110000</td>\n",
       "      <td>2014</td>\n",
       "      <td>gasoline</td>\n",
       "      <td>gasoline</td>\n",
       "      <td>1.6</td>\n",
       "      <td>hatchback</td>\n",
       "      <td>False</td>\n",
       "      <td>owned</td>\n",
       "      <td>front</td>\n",
       "      <td>False</td>\n",
       "      <td>5</td>\n",
       "      <td>10</td>\n",
       "      <td>91</td>\n",
       "      <td>12200.0</td>\n",
       "    </tr>\n",
       "    <tr>\n",
       "      <th>3</th>\n",
       "      <td>Opel</td>\n",
       "      <td>automatic</td>\n",
       "      <td>other</td>\n",
       "      <td>255100</td>\n",
       "      <td>2007</td>\n",
       "      <td>gasoline</td>\n",
       "      <td>gasoline</td>\n",
       "      <td>1.8</td>\n",
       "      <td>hatchback</td>\n",
       "      <td>False</td>\n",
       "      <td>owned</td>\n",
       "      <td>front</td>\n",
       "      <td>False</td>\n",
       "      <td>10</td>\n",
       "      <td>4</td>\n",
       "      <td>91</td>\n",
       "      <td>4950.0</td>\n",
       "    </tr>\n",
       "    <tr>\n",
       "      <th>4</th>\n",
       "      <td>Mazda</td>\n",
       "      <td>manual</td>\n",
       "      <td>blue</td>\n",
       "      <td>650000</td>\n",
       "      <td>1999</td>\n",
       "      <td>gasoline</td>\n",
       "      <td>gasoline</td>\n",
       "      <td>2.0</td>\n",
       "      <td>sedan</td>\n",
       "      <td>False</td>\n",
       "      <td>owned</td>\n",
       "      <td>front</td>\n",
       "      <td>True</td>\n",
       "      <td>5</td>\n",
       "      <td>7</td>\n",
       "      <td>62</td>\n",
       "      <td>3000.0</td>\n",
       "    </tr>\n",
       "  </tbody>\n",
       "</table>\n",
       "</div>"
      ],
      "text/plain": [
       "  manufacturer_name transmission  color  odometer_value  year_produced  \\\n",
       "0        Volkswagen    automatic  black          130000           2016   \n",
       "1           Renault       manual  brown          149000           2012   \n",
       "2               Kia    automatic  brown          110000           2014   \n",
       "3              Opel    automatic  other          255100           2007   \n",
       "4             Mazda       manual   blue          650000           1999   \n",
       "\n",
       "  engine_fuel engine_type  engine_capacity  body_type  has_warranty ownership  \\\n",
       "0      diesel      diesel              1.6  universal         False     owned   \n",
       "1    gasoline    gasoline              1.6      sedan         False     owned   \n",
       "2    gasoline    gasoline              1.6  hatchback         False     owned   \n",
       "3    gasoline    gasoline              1.8  hatchback         False     owned   \n",
       "4    gasoline    gasoline              2.0      sedan         False     owned   \n",
       "\n",
       "  type_of_drive  is_exchangeable  number_of_photos  number_of_maintenance  \\\n",
       "0         front             True                17                     38   \n",
       "1         front            False                 9                      3   \n",
       "2         front            False                 5                     10   \n",
       "3         front            False                10                      4   \n",
       "4         front             True                 5                      7   \n",
       "\n",
       "   duration_listed  price_usd  \n",
       "0               67    13150.0  \n",
       "1              100     7500.0  \n",
       "2               91    12200.0  \n",
       "3               91     4950.0  \n",
       "4               62     3000.0  "
      ]
     },
     "execution_count": 3,
     "metadata": {},
     "output_type": "execute_result"
    }
   ],
   "source": [
    "df_tr.head()"
   ]
  },
  {
   "cell_type": "markdown",
   "metadata": {},
   "source": [
    "Checking null values"
   ]
  },
  {
   "cell_type": "code",
   "execution_count": 4,
   "metadata": {},
   "outputs": [
    {
     "data": {
      "text/plain": [
       "manufacturer_name         0\n",
       "transmission              0\n",
       "color                     0\n",
       "odometer_value            0\n",
       "year_produced             0\n",
       "engine_fuel               0\n",
       "engine_type               0\n",
       "engine_capacity          15\n",
       "body_type                 0\n",
       "has_warranty              0\n",
       "ownership                 0\n",
       "type_of_drive             0\n",
       "is_exchangeable           0\n",
       "number_of_photos          0\n",
       "number_of_maintenance     0\n",
       "duration_listed           0\n",
       "price_usd                 0\n",
       "dtype: int64"
      ]
     },
     "execution_count": 4,
     "metadata": {},
     "output_type": "execute_result"
    }
   ],
   "source": [
    "df_tr.isnull().sum()"
   ]
  },
  {
   "cell_type": "code",
   "execution_count": 5,
   "metadata": {},
   "outputs": [
    {
     "data": {
      "text/plain": [
       "manufacturer_name        0\n",
       "transmission             0\n",
       "color                    0\n",
       "odometer_value           0\n",
       "year_produced            0\n",
       "engine_fuel              0\n",
       "engine_type              0\n",
       "engine_capacity          5\n",
       "body_type                0\n",
       "has_warranty             0\n",
       "ownership                0\n",
       "type_of_drive            0\n",
       "is_exchangeable          0\n",
       "number_of_photos         0\n",
       "number_of_maintenance    0\n",
       "duration_listed          0\n",
       "price_usd                0\n",
       "dtype: int64"
      ]
     },
     "execution_count": 5,
     "metadata": {},
     "output_type": "execute_result"
    }
   ],
   "source": [
    "df_te.isnull().sum()"
   ]
  },
  {
   "cell_type": "markdown",
   "metadata": {},
   "source": [
    "Dropping na values"
   ]
  },
  {
   "cell_type": "code",
   "execution_count": 6,
   "metadata": {},
   "outputs": [],
   "source": [
    "dataTrain=df_tr.dropna()\n",
    "dataTest=df_te.dropna()"
   ]
  },
  {
   "cell_type": "code",
   "execution_count": 7,
   "metadata": {},
   "outputs": [
    {
     "data": {
      "text/plain": [
       "manufacturer_name        0\n",
       "transmission             0\n",
       "color                    0\n",
       "odometer_value           0\n",
       "year_produced            0\n",
       "engine_fuel              0\n",
       "engine_type              0\n",
       "engine_capacity          0\n",
       "body_type                0\n",
       "has_warranty             0\n",
       "ownership                0\n",
       "type_of_drive            0\n",
       "is_exchangeable          0\n",
       "number_of_photos         0\n",
       "number_of_maintenance    0\n",
       "duration_listed          0\n",
       "price_usd                0\n",
       "dtype: int64"
      ]
     },
     "execution_count": 7,
     "metadata": {},
     "output_type": "execute_result"
    }
   ],
   "source": [
    "dataTrain.isnull().sum()"
   ]
  },
  {
   "cell_type": "code",
   "execution_count": 8,
   "metadata": {},
   "outputs": [
    {
     "data": {
      "text/plain": [
       "manufacturer_name        0\n",
       "transmission             0\n",
       "color                    0\n",
       "odometer_value           0\n",
       "year_produced            0\n",
       "engine_fuel              0\n",
       "engine_type              0\n",
       "engine_capacity          0\n",
       "body_type                0\n",
       "has_warranty             0\n",
       "ownership                0\n",
       "type_of_drive            0\n",
       "is_exchangeable          0\n",
       "number_of_photos         0\n",
       "number_of_maintenance    0\n",
       "duration_listed          0\n",
       "price_usd                0\n",
       "dtype: int64"
      ]
     },
     "execution_count": 8,
     "metadata": {},
     "output_type": "execute_result"
    }
   ],
   "source": [
    "dataTrain.isnull().sum()"
   ]
  },
  {
   "cell_type": "code",
   "execution_count": 9,
   "metadata": {},
   "outputs": [
    {
     "data": {
      "text/plain": [
       "manufacturer_name        0\n",
       "transmission             0\n",
       "color                    0\n",
       "odometer_value           0\n",
       "year_produced            0\n",
       "engine_fuel              0\n",
       "engine_type              0\n",
       "engine_capacity          0\n",
       "body_type                0\n",
       "has_warranty             0\n",
       "ownership                0\n",
       "type_of_drive            0\n",
       "is_exchangeable          0\n",
       "number_of_photos         0\n",
       "number_of_maintenance    0\n",
       "duration_listed          0\n",
       "price_usd                0\n",
       "dtype: int64"
      ]
     },
     "execution_count": 9,
     "metadata": {},
     "output_type": "execute_result"
    }
   ],
   "source": [
    "dataTest.isnull().sum()"
   ]
  },
  {
   "cell_type": "code",
   "execution_count": 10,
   "metadata": {},
   "outputs": [
    {
     "name": "stderr",
     "output_type": "stream",
     "text": [
      "C:\\Users\\vinod\\AppData\\Local\\Temp\\ipykernel_19348\\2786449281.py:1: SettingWithCopyWarning: \n",
      "A value is trying to be set on a copy of a slice from a DataFrame\n",
      "\n",
      "See the caveats in the documentation: https://pandas.pydata.org/pandas-docs/stable/user_guide/indexing.html#returning-a-view-versus-a-copy\n",
      "  dataTrain.drop(['number_of_maintenance', 'duration_listed', 'engine_type','is_exchangeable'], axis = 1, inplace = True)\n"
     ]
    }
   ],
   "source": [
    "dataTrain.drop(['number_of_maintenance', 'duration_listed', 'engine_type','is_exchangeable'], axis = 1, inplace = True)"
   ]
  },
  {
   "cell_type": "code",
   "execution_count": 11,
   "metadata": {},
   "outputs": [
    {
     "name": "stderr",
     "output_type": "stream",
     "text": [
      "C:\\Users\\vinod\\AppData\\Local\\Temp\\ipykernel_19348\\147954485.py:1: SettingWithCopyWarning: \n",
      "A value is trying to be set on a copy of a slice from a DataFrame\n",
      "\n",
      "See the caveats in the documentation: https://pandas.pydata.org/pandas-docs/stable/user_guide/indexing.html#returning-a-view-versus-a-copy\n",
      "  dataTest.drop(['number_of_maintenance', 'duration_listed', 'engine_type','is_exchangeable'], axis = 1, inplace = True)\n"
     ]
    }
   ],
   "source": [
    "dataTest.drop(['number_of_maintenance', 'duration_listed', 'engine_type','is_exchangeable'], axis = 1, inplace = True)"
   ]
  },
  {
   "cell_type": "code",
   "execution_count": 12,
   "metadata": {},
   "outputs": [
    {
     "data": {
      "text/plain": [
       "((49985, 13), (26995, 13))"
      ]
     },
     "execution_count": 12,
     "metadata": {},
     "output_type": "execute_result"
    }
   ],
   "source": [
    "dataTrain.shape, dataTest.shape"
   ]
  },
  {
   "cell_type": "code",
   "execution_count": 13,
   "metadata": {},
   "outputs": [
    {
     "data": {
      "text/plain": [
       "manufacturer_name     object\n",
       "transmission          object\n",
       "color                 object\n",
       "odometer_value         int64\n",
       "year_produced          int64\n",
       "engine_fuel           object\n",
       "engine_capacity      float64\n",
       "body_type             object\n",
       "has_warranty            bool\n",
       "ownership             object\n",
       "type_of_drive         object\n",
       "number_of_photos       int64\n",
       "price_usd            float64\n",
       "dtype: object"
      ]
     },
     "execution_count": 13,
     "metadata": {},
     "output_type": "execute_result"
    }
   ],
   "source": [
    "dataTrain.dtypes"
   ]
  },
  {
   "cell_type": "code",
   "execution_count": 14,
   "metadata": {},
   "outputs": [
    {
     "data": {
      "text/html": [
       "<div>\n",
       "<style scoped>\n",
       "    .dataframe tbody tr th:only-of-type {\n",
       "        vertical-align: middle;\n",
       "    }\n",
       "\n",
       "    .dataframe tbody tr th {\n",
       "        vertical-align: top;\n",
       "    }\n",
       "\n",
       "    .dataframe thead th {\n",
       "        text-align: right;\n",
       "    }\n",
       "</style>\n",
       "<table border=\"1\" class=\"dataframe\">\n",
       "  <thead>\n",
       "    <tr style=\"text-align: right;\">\n",
       "      <th></th>\n",
       "      <th>odometer_value</th>\n",
       "      <th>year_produced</th>\n",
       "      <th>engine_capacity</th>\n",
       "      <th>number_of_photos</th>\n",
       "      <th>price_usd</th>\n",
       "    </tr>\n",
       "  </thead>\n",
       "  <tbody>\n",
       "    <tr>\n",
       "      <th>count</th>\n",
       "      <td>49985.000000</td>\n",
       "      <td>49985.000000</td>\n",
       "      <td>49985.000000</td>\n",
       "      <td>49985.000000</td>\n",
       "      <td>49985.000000</td>\n",
       "    </tr>\n",
       "    <tr>\n",
       "      <th>mean</th>\n",
       "      <td>249275.754426</td>\n",
       "      <td>2002.942143</td>\n",
       "      <td>2.056894</td>\n",
       "      <td>9.660958</td>\n",
       "      <td>6651.131653</td>\n",
       "    </tr>\n",
       "    <tr>\n",
       "      <th>std</th>\n",
       "      <td>136342.510114</td>\n",
       "      <td>8.065809</td>\n",
       "      <td>0.675106</td>\n",
       "      <td>6.144711</td>\n",
       "      <td>6462.573155</td>\n",
       "    </tr>\n",
       "    <tr>\n",
       "      <th>min</th>\n",
       "      <td>0.000000</td>\n",
       "      <td>1942.000000</td>\n",
       "      <td>0.200000</td>\n",
       "      <td>1.000000</td>\n",
       "      <td>1.000000</td>\n",
       "    </tr>\n",
       "    <tr>\n",
       "      <th>25%</th>\n",
       "      <td>158000.000000</td>\n",
       "      <td>1998.000000</td>\n",
       "      <td>1.600000</td>\n",
       "      <td>5.000000</td>\n",
       "      <td>2100.000000</td>\n",
       "    </tr>\n",
       "    <tr>\n",
       "      <th>50%</th>\n",
       "      <td>250000.000000</td>\n",
       "      <td>2003.000000</td>\n",
       "      <td>2.000000</td>\n",
       "      <td>8.000000</td>\n",
       "      <td>4800.000000</td>\n",
       "    </tr>\n",
       "    <tr>\n",
       "      <th>75%</th>\n",
       "      <td>325000.000000</td>\n",
       "      <td>2009.000000</td>\n",
       "      <td>2.300000</td>\n",
       "      <td>12.000000</td>\n",
       "      <td>8963.290000</td>\n",
       "    </tr>\n",
       "    <tr>\n",
       "      <th>max</th>\n",
       "      <td>1000000.000000</td>\n",
       "      <td>2019.000000</td>\n",
       "      <td>8.000000</td>\n",
       "      <td>86.000000</td>\n",
       "      <td>50000.000000</td>\n",
       "    </tr>\n",
       "  </tbody>\n",
       "</table>\n",
       "</div>"
      ],
      "text/plain": [
       "       odometer_value  year_produced  engine_capacity  number_of_photos  \\\n",
       "count    49985.000000   49985.000000     49985.000000      49985.000000   \n",
       "mean    249275.754426    2002.942143         2.056894          9.660958   \n",
       "std     136342.510114       8.065809         0.675106          6.144711   \n",
       "min          0.000000    1942.000000         0.200000          1.000000   \n",
       "25%     158000.000000    1998.000000         1.600000          5.000000   \n",
       "50%     250000.000000    2003.000000         2.000000          8.000000   \n",
       "75%     325000.000000    2009.000000         2.300000         12.000000   \n",
       "max    1000000.000000    2019.000000         8.000000         86.000000   \n",
       "\n",
       "          price_usd  \n",
       "count  49985.000000  \n",
       "mean    6651.131653  \n",
       "std     6462.573155  \n",
       "min        1.000000  \n",
       "25%     2100.000000  \n",
       "50%     4800.000000  \n",
       "75%     8963.290000  \n",
       "max    50000.000000  "
      ]
     },
     "execution_count": 14,
     "metadata": {},
     "output_type": "execute_result"
    }
   ],
   "source": [
    "dataTrain.describe()"
   ]
  },
  {
   "cell_type": "code",
   "execution_count": 15,
   "metadata": {},
   "outputs": [
    {
     "data": {
      "text/html": [
       "<div>\n",
       "<style scoped>\n",
       "    .dataframe tbody tr th:only-of-type {\n",
       "        vertical-align: middle;\n",
       "    }\n",
       "\n",
       "    .dataframe tbody tr th {\n",
       "        vertical-align: top;\n",
       "    }\n",
       "\n",
       "    .dataframe thead th {\n",
       "        text-align: right;\n",
       "    }\n",
       "</style>\n",
       "<table border=\"1\" class=\"dataframe\">\n",
       "  <thead>\n",
       "    <tr style=\"text-align: right;\">\n",
       "      <th></th>\n",
       "      <th>odometer_value</th>\n",
       "      <th>year_produced</th>\n",
       "      <th>engine_capacity</th>\n",
       "      <th>number_of_photos</th>\n",
       "      <th>price_usd</th>\n",
       "    </tr>\n",
       "  </thead>\n",
       "  <tbody>\n",
       "    <tr>\n",
       "      <th>count</th>\n",
       "      <td>26995.000000</td>\n",
       "      <td>26995.000000</td>\n",
       "      <td>26995.000000</td>\n",
       "      <td>26995.000000</td>\n",
       "      <td>26995.000000</td>\n",
       "    </tr>\n",
       "    <tr>\n",
       "      <th>mean</th>\n",
       "      <td>248253.283497</td>\n",
       "      <td>2002.935655</td>\n",
       "      <td>2.052027</td>\n",
       "      <td>9.623597</td>\n",
       "      <td>6610.308694</td>\n",
       "    </tr>\n",
       "    <tr>\n",
       "      <th>std</th>\n",
       "      <td>135573.549451</td>\n",
       "      <td>8.063814</td>\n",
       "      <td>0.663980</td>\n",
       "      <td>5.997012</td>\n",
       "      <td>6357.865198</td>\n",
       "    </tr>\n",
       "    <tr>\n",
       "      <th>min</th>\n",
       "      <td>0.000000</td>\n",
       "      <td>1942.000000</td>\n",
       "      <td>0.200000</td>\n",
       "      <td>1.000000</td>\n",
       "      <td>1.000000</td>\n",
       "    </tr>\n",
       "    <tr>\n",
       "      <th>25%</th>\n",
       "      <td>157000.000000</td>\n",
       "      <td>1998.000000</td>\n",
       "      <td>1.600000</td>\n",
       "      <td>5.000000</td>\n",
       "      <td>2150.000000</td>\n",
       "    </tr>\n",
       "    <tr>\n",
       "      <th>50%</th>\n",
       "      <td>249000.000000</td>\n",
       "      <td>2003.000000</td>\n",
       "      <td>2.000000</td>\n",
       "      <td>8.000000</td>\n",
       "      <td>4799.000000</td>\n",
       "    </tr>\n",
       "    <tr>\n",
       "      <th>75%</th>\n",
       "      <td>324000.000000</td>\n",
       "      <td>2009.000000</td>\n",
       "      <td>2.300000</td>\n",
       "      <td>12.000000</td>\n",
       "      <td>8950.000000</td>\n",
       "    </tr>\n",
       "    <tr>\n",
       "      <th>max</th>\n",
       "      <td>1000000.000000</td>\n",
       "      <td>2019.000000</td>\n",
       "      <td>8.000000</td>\n",
       "      <td>71.000000</td>\n",
       "      <td>50000.000000</td>\n",
       "    </tr>\n",
       "  </tbody>\n",
       "</table>\n",
       "</div>"
      ],
      "text/plain": [
       "       odometer_value  year_produced  engine_capacity  number_of_photos  \\\n",
       "count    26995.000000   26995.000000     26995.000000      26995.000000   \n",
       "mean    248253.283497    2002.935655         2.052027          9.623597   \n",
       "std     135573.549451       8.063814         0.663980          5.997012   \n",
       "min          0.000000    1942.000000         0.200000          1.000000   \n",
       "25%     157000.000000    1998.000000         1.600000          5.000000   \n",
       "50%     249000.000000    2003.000000         2.000000          8.000000   \n",
       "75%     324000.000000    2009.000000         2.300000         12.000000   \n",
       "max    1000000.000000    2019.000000         8.000000         71.000000   \n",
       "\n",
       "          price_usd  \n",
       "count  26995.000000  \n",
       "mean    6610.308694  \n",
       "std     6357.865198  \n",
       "min        1.000000  \n",
       "25%     2150.000000  \n",
       "50%     4799.000000  \n",
       "75%     8950.000000  \n",
       "max    50000.000000  "
      ]
     },
     "execution_count": 15,
     "metadata": {},
     "output_type": "execute_result"
    }
   ],
   "source": [
    "dataTest.describe()"
   ]
  },
  {
   "cell_type": "markdown",
   "metadata": {},
   "source": [
    "Data preprosessing "
   ]
  },
  {
   "cell_type": "code",
   "execution_count": null,
   "metadata": {},
   "outputs": [],
   "source": []
  },
  {
   "cell_type": "code",
   "execution_count": 16,
   "metadata": {},
   "outputs": [],
   "source": [
    "X_train = pd.get_dummies(dataTrain, drop_first=True)\n",
    "X_test = pd.get_dummies(dataTest, drop_first=True)\n",
    "X_test = X_test.reindex(columns=X_train.columns, fill_value=0)"
   ]
  },
  {
   "cell_type": "code",
   "execution_count": 17,
   "metadata": {},
   "outputs": [],
   "source": [
    "scaler = StandardScaler()\n",
    "X_train_scaled = scaler.fit_transform(X_train)\n",
    "X_test_scaled = scaler.transform(X_test)\n"
   ]
  },
  {
   "cell_type": "markdown",
   "metadata": {},
   "source": [
    "Converting boolen to int"
   ]
  },
  {
   "cell_type": "code",
   "execution_count": 18,
   "metadata": {},
   "outputs": [
    {
     "name": "stdout",
     "output_type": "stream",
     "text": [
      "<class 'pandas.core.frame.DataFrame'>\n",
      "Index: 49985 entries, 0 to 49999\n",
      "Data columns (total 91 columns):\n",
      " #   Column                           Non-Null Count  Dtype  \n",
      "---  ------                           --------------  -----  \n",
      " 0   odometer_value                   49985 non-null  int64  \n",
      " 1   year_produced                    49985 non-null  int64  \n",
      " 2   engine_capacity                  49985 non-null  float64\n",
      " 3   has_warranty                     49985 non-null  int32  \n",
      " 4   number_of_photos                 49985 non-null  int64  \n",
      " 5   price_usd                        49985 non-null  float64\n",
      " 6   manufacturer_name_Alfa Romeo     49985 non-null  int32  \n",
      " 7   manufacturer_name_Audi           49985 non-null  int32  \n",
      " 8   manufacturer_name_BMW            49985 non-null  int32  \n",
      " 9   manufacturer_name_Buick          49985 non-null  int32  \n",
      " 10  manufacturer_name_Cadillac       49985 non-null  int32  \n",
      " 11  manufacturer_name_Chery          49985 non-null  int32  \n",
      " 12  manufacturer_name_Chevrolet      49985 non-null  int32  \n",
      " 13  manufacturer_name_Chrysler       49985 non-null  int32  \n",
      " 14  manufacturer_name_Citroen        49985 non-null  int32  \n",
      " 15  manufacturer_name_Dacia          49985 non-null  int32  \n",
      " 16  manufacturer_name_Daewoo         49985 non-null  int32  \n",
      " 17  manufacturer_name_Dodge          49985 non-null  int32  \n",
      " 18  manufacturer_name_Fiat           49985 non-null  int32  \n",
      " 19  manufacturer_name_Ford           49985 non-null  int32  \n",
      " 20  manufacturer_name_Geely          49985 non-null  int32  \n",
      " 21  manufacturer_name_Great Wall     49985 non-null  int32  \n",
      " 22  manufacturer_name_Honda          49985 non-null  int32  \n",
      " 23  manufacturer_name_Hyundai        49985 non-null  int32  \n",
      " 24  manufacturer_name_Infiniti       49985 non-null  int32  \n",
      " 25  manufacturer_name_Iveco          49985 non-null  int32  \n",
      " 26  manufacturer_name_Jaguar         49985 non-null  int32  \n",
      " 27  manufacturer_name_Jeep           49985 non-null  int32  \n",
      " 28  manufacturer_name_Kia            49985 non-null  int32  \n",
      " 29  manufacturer_name_LADA           49985 non-null  int32  \n",
      " 30  manufacturer_name_Lancia         49985 non-null  int32  \n",
      " 31  manufacturer_name_Land Rover     49985 non-null  int32  \n",
      " 32  manufacturer_name_Lexus          49985 non-null  int32  \n",
      " 33  manufacturer_name_Lifan          49985 non-null  int32  \n",
      " 34  manufacturer_name_Lincoln        49985 non-null  int32  \n",
      " 35  manufacturer_name_Mazda          49985 non-null  int32  \n",
      " 36  manufacturer_name_Mercedes-Benz  49985 non-null  int32  \n",
      " 37  manufacturer_name_Mini           49985 non-null  int32  \n",
      " 38  manufacturer_name_Mitsubishi     49985 non-null  int32  \n",
      " 39  manufacturer_name_Nissan         49985 non-null  int32  \n",
      " 40  manufacturer_name_Opel           49985 non-null  int32  \n",
      " 41  manufacturer_name_Peugeot        49985 non-null  int32  \n",
      " 42  manufacturer_name_Pontiac        49985 non-null  int32  \n",
      " 43  manufacturer_name_Porsche        49985 non-null  int32  \n",
      " 44  manufacturer_name_Renault        49985 non-null  int32  \n",
      " 45  manufacturer_name_Rover          49985 non-null  int32  \n",
      " 46  manufacturer_name_Saab           49985 non-null  int32  \n",
      " 47  manufacturer_name_Seat           49985 non-null  int32  \n",
      " 48  manufacturer_name_Skoda          49985 non-null  int32  \n",
      " 49  manufacturer_name_SsangYong      49985 non-null  int32  \n",
      " 50  manufacturer_name_Subaru         49985 non-null  int32  \n",
      " 51  manufacturer_name_Suzuki         49985 non-null  int32  \n",
      " 52  manufacturer_name_Toyota         49985 non-null  int32  \n",
      " 53  manufacturer_name_Volkswagen     49985 non-null  int32  \n",
      " 54  manufacturer_name_Volvo          49985 non-null  int32  \n",
      " 55  manufacturer_name_ВАЗ            49985 non-null  int32  \n",
      " 56  manufacturer_name_ГАЗ            49985 non-null  int32  \n",
      " 57  manufacturer_name_ЗАЗ            49985 non-null  int32  \n",
      " 58  manufacturer_name_Москвич        49985 non-null  int32  \n",
      " 59  manufacturer_name_УАЗ            49985 non-null  int32  \n",
      " 60  transmission_manual              49985 non-null  int32  \n",
      " 61  color_blue                       49985 non-null  int32  \n",
      " 62  color_brown                      49985 non-null  int32  \n",
      " 63  color_green                      49985 non-null  int32  \n",
      " 64  color_grey                       49985 non-null  int32  \n",
      " 65  color_orange                     49985 non-null  int32  \n",
      " 66  color_other                      49985 non-null  int32  \n",
      " 67  color_red                        49985 non-null  int32  \n",
      " 68  color_silver                     49985 non-null  int32  \n",
      " 69  color_violet                     49985 non-null  int32  \n",
      " 70  color_white                      49985 non-null  int32  \n",
      " 71  color_yellow                     49985 non-null  int32  \n",
      " 72  engine_fuel_gas                  49985 non-null  int32  \n",
      " 73  engine_fuel_gasoline             49985 non-null  int32  \n",
      " 74  engine_fuel_hybrid-diesel        49985 non-null  int32  \n",
      " 75  engine_fuel_hybrid-petrol        49985 non-null  int32  \n",
      " 76  body_type_coupe                  49985 non-null  int32  \n",
      " 77  body_type_hatchback              49985 non-null  int32  \n",
      " 78  body_type_liftback               49985 non-null  int32  \n",
      " 79  body_type_limousine              49985 non-null  int32  \n",
      " 80  body_type_minibus                49985 non-null  int32  \n",
      " 81  body_type_minivan                49985 non-null  int32  \n",
      " 82  body_type_pickup                 49985 non-null  int32  \n",
      " 83  body_type_sedan                  49985 non-null  int32  \n",
      " 84  body_type_suv                    49985 non-null  int32  \n",
      " 85  body_type_universal              49985 non-null  int32  \n",
      " 86  body_type_van                    49985 non-null  int32  \n",
      " 87  ownership_new                    49985 non-null  int32  \n",
      " 88  ownership_owned                  49985 non-null  int32  \n",
      " 89  type_of_drive_front              49985 non-null  int32  \n",
      " 90  type_of_drive_rear               49985 non-null  int32  \n",
      "dtypes: float64(2), int32(86), int64(3)\n",
      "memory usage: 18.7 MB\n"
     ]
    }
   ],
   "source": [
    "# Identify boolean columns\n",
    "bool_columns = X_train.select_dtypes(include='bool').columns\n",
    "\n",
    "# Convert those columns to integers\n",
    "X_train[bool_columns] = X_train[bool_columns].astype(int)\n",
    "X_train.info()"
   ]
  },
  {
   "cell_type": "code",
   "execution_count": 19,
   "metadata": {},
   "outputs": [
    {
     "name": "stdout",
     "output_type": "stream",
     "text": [
      "<class 'pandas.core.frame.DataFrame'>\n",
      "Index: 26995 entries, 0 to 26999\n",
      "Data columns (total 91 columns):\n",
      " #   Column                           Non-Null Count  Dtype  \n",
      "---  ------                           --------------  -----  \n",
      " 0   odometer_value                   26995 non-null  int64  \n",
      " 1   year_produced                    26995 non-null  int64  \n",
      " 2   engine_capacity                  26995 non-null  float64\n",
      " 3   has_warranty                     26995 non-null  int32  \n",
      " 4   number_of_photos                 26995 non-null  int64  \n",
      " 5   price_usd                        26995 non-null  float64\n",
      " 6   manufacturer_name_Alfa Romeo     26995 non-null  int32  \n",
      " 7   manufacturer_name_Audi           26995 non-null  int32  \n",
      " 8   manufacturer_name_BMW            26995 non-null  int32  \n",
      " 9   manufacturer_name_Buick          26995 non-null  int32  \n",
      " 10  manufacturer_name_Cadillac       26995 non-null  int32  \n",
      " 11  manufacturer_name_Chery          26995 non-null  int32  \n",
      " 12  manufacturer_name_Chevrolet      26995 non-null  int32  \n",
      " 13  manufacturer_name_Chrysler       26995 non-null  int32  \n",
      " 14  manufacturer_name_Citroen        26995 non-null  int32  \n",
      " 15  manufacturer_name_Dacia          26995 non-null  int32  \n",
      " 16  manufacturer_name_Daewoo         26995 non-null  int32  \n",
      " 17  manufacturer_name_Dodge          26995 non-null  int32  \n",
      " 18  manufacturer_name_Fiat           26995 non-null  int32  \n",
      " 19  manufacturer_name_Ford           26995 non-null  int32  \n",
      " 20  manufacturer_name_Geely          26995 non-null  int32  \n",
      " 21  manufacturer_name_Great Wall     26995 non-null  int32  \n",
      " 22  manufacturer_name_Honda          26995 non-null  int32  \n",
      " 23  manufacturer_name_Hyundai        26995 non-null  int32  \n",
      " 24  manufacturer_name_Infiniti       26995 non-null  int32  \n",
      " 25  manufacturer_name_Iveco          26995 non-null  int32  \n",
      " 26  manufacturer_name_Jaguar         26995 non-null  int32  \n",
      " 27  manufacturer_name_Jeep           26995 non-null  int32  \n",
      " 28  manufacturer_name_Kia            26995 non-null  int32  \n",
      " 29  manufacturer_name_LADA           26995 non-null  int32  \n",
      " 30  manufacturer_name_Lancia         26995 non-null  int32  \n",
      " 31  manufacturer_name_Land Rover     26995 non-null  int32  \n",
      " 32  manufacturer_name_Lexus          26995 non-null  int32  \n",
      " 33  manufacturer_name_Lifan          26995 non-null  int32  \n",
      " 34  manufacturer_name_Lincoln        26995 non-null  int32  \n",
      " 35  manufacturer_name_Mazda          26995 non-null  int32  \n",
      " 36  manufacturer_name_Mercedes-Benz  26995 non-null  int32  \n",
      " 37  manufacturer_name_Mini           26995 non-null  int32  \n",
      " 38  manufacturer_name_Mitsubishi     26995 non-null  int32  \n",
      " 39  manufacturer_name_Nissan         26995 non-null  int32  \n",
      " 40  manufacturer_name_Opel           26995 non-null  int32  \n",
      " 41  manufacturer_name_Peugeot        26995 non-null  int32  \n",
      " 42  manufacturer_name_Pontiac        26995 non-null  int32  \n",
      " 43  manufacturer_name_Porsche        26995 non-null  int32  \n",
      " 44  manufacturer_name_Renault        26995 non-null  int32  \n",
      " 45  manufacturer_name_Rover          26995 non-null  int32  \n",
      " 46  manufacturer_name_Saab           26995 non-null  int32  \n",
      " 47  manufacturer_name_Seat           26995 non-null  int32  \n",
      " 48  manufacturer_name_Skoda          26995 non-null  int32  \n",
      " 49  manufacturer_name_SsangYong      26995 non-null  int32  \n",
      " 50  manufacturer_name_Subaru         26995 non-null  int32  \n",
      " 51  manufacturer_name_Suzuki         26995 non-null  int32  \n",
      " 52  manufacturer_name_Toyota         26995 non-null  int32  \n",
      " 53  manufacturer_name_Volkswagen     26995 non-null  int32  \n",
      " 54  manufacturer_name_Volvo          26995 non-null  int32  \n",
      " 55  manufacturer_name_ВАЗ            26995 non-null  int32  \n",
      " 56  manufacturer_name_ГАЗ            26995 non-null  int32  \n",
      " 57  manufacturer_name_ЗАЗ            26995 non-null  int32  \n",
      " 58  manufacturer_name_Москвич        26995 non-null  int32  \n",
      " 59  manufacturer_name_УАЗ            26995 non-null  int32  \n",
      " 60  transmission_manual              26995 non-null  int32  \n",
      " 61  color_blue                       26995 non-null  int32  \n",
      " 62  color_brown                      26995 non-null  int32  \n",
      " 63  color_green                      26995 non-null  int32  \n",
      " 64  color_grey                       26995 non-null  int32  \n",
      " 65  color_orange                     26995 non-null  int32  \n",
      " 66  color_other                      26995 non-null  int32  \n",
      " 67  color_red                        26995 non-null  int32  \n",
      " 68  color_silver                     26995 non-null  int32  \n",
      " 69  color_violet                     26995 non-null  int32  \n",
      " 70  color_white                      26995 non-null  int32  \n",
      " 71  color_yellow                     26995 non-null  int32  \n",
      " 72  engine_fuel_gas                  26995 non-null  int32  \n",
      " 73  engine_fuel_gasoline             26995 non-null  int32  \n",
      " 74  engine_fuel_hybrid-diesel        26995 non-null  int64  \n",
      " 75  engine_fuel_hybrid-petrol        26995 non-null  int32  \n",
      " 76  body_type_coupe                  26995 non-null  int32  \n",
      " 77  body_type_hatchback              26995 non-null  int32  \n",
      " 78  body_type_liftback               26995 non-null  int32  \n",
      " 79  body_type_limousine              26995 non-null  int32  \n",
      " 80  body_type_minibus                26995 non-null  int32  \n",
      " 81  body_type_minivan                26995 non-null  int32  \n",
      " 82  body_type_pickup                 26995 non-null  int32  \n",
      " 83  body_type_sedan                  26995 non-null  int32  \n",
      " 84  body_type_suv                    26995 non-null  int32  \n",
      " 85  body_type_universal              26995 non-null  int32  \n",
      " 86  body_type_van                    26995 non-null  int32  \n",
      " 87  ownership_new                    26995 non-null  int32  \n",
      " 88  ownership_owned                  26995 non-null  int32  \n",
      " 89  type_of_drive_front              26995 non-null  int32  \n",
      " 90  type_of_drive_rear               26995 non-null  int32  \n",
      "dtypes: float64(2), int32(85), int64(4)\n",
      "memory usage: 10.2 MB\n"
     ]
    }
   ],
   "source": [
    "# Identify boolean columns\n",
    "bool_columns = X_test.select_dtypes(include='bool').columns\n",
    "\n",
    "# Convert those columns to integers\n",
    "X_test[bool_columns] = X_test[bool_columns].astype(int)\n",
    "X_test.info()"
   ]
  },
  {
   "cell_type": "code",
   "execution_count": 20,
   "metadata": {},
   "outputs": [],
   "source": [
    "X_train1=X_train.drop(columns=['price_usd'])\n",
    "y_train=X_train['price_usd']\n",
    "#test set\n",
    "X_test1=X_test.drop(columns=['price_usd'])\n",
    "y_test=X_test['price_usd']"
   ]
  },
  {
   "cell_type": "code",
   "execution_count": 21,
   "metadata": {},
   "outputs": [
    {
     "data": {
      "text/plain": [
       "((49985, 90), (49985,), (26995, 90), (26995,))"
      ]
     },
     "execution_count": 21,
     "metadata": {},
     "output_type": "execute_result"
    }
   ],
   "source": [
    "X_train1.shape, y_train.shape, X_test1.shape, y_test.shape"
   ]
  },
  {
   "cell_type": "code",
   "execution_count": 22,
   "metadata": {},
   "outputs": [],
   "source": [
    "from sklearn.model_selection import train_test_split\n",
    "\n",
    "X_train_split, X_val_split, y_train_split, y_val_split = train_test_split(X_train1, y_train, test_size=0.05, random_state=42)\n"
   ]
  },
  {
   "cell_type": "code",
   "execution_count": 23,
   "metadata": {},
   "outputs": [
    {
     "name": "stdout",
     "output_type": "stream",
     "text": [
      "<class 'pandas.core.frame.DataFrame'>\n",
      "Index: 47485 entries, 25051 to 15799\n",
      "Data columns (total 90 columns):\n",
      " #   Column                           Non-Null Count  Dtype  \n",
      "---  ------                           --------------  -----  \n",
      " 0   odometer_value                   47485 non-null  int64  \n",
      " 1   year_produced                    47485 non-null  int64  \n",
      " 2   engine_capacity                  47485 non-null  float64\n",
      " 3   has_warranty                     47485 non-null  int32  \n",
      " 4   number_of_photos                 47485 non-null  int64  \n",
      " 5   manufacturer_name_Alfa Romeo     47485 non-null  int32  \n",
      " 6   manufacturer_name_Audi           47485 non-null  int32  \n",
      " 7   manufacturer_name_BMW            47485 non-null  int32  \n",
      " 8   manufacturer_name_Buick          47485 non-null  int32  \n",
      " 9   manufacturer_name_Cadillac       47485 non-null  int32  \n",
      " 10  manufacturer_name_Chery          47485 non-null  int32  \n",
      " 11  manufacturer_name_Chevrolet      47485 non-null  int32  \n",
      " 12  manufacturer_name_Chrysler       47485 non-null  int32  \n",
      " 13  manufacturer_name_Citroen        47485 non-null  int32  \n",
      " 14  manufacturer_name_Dacia          47485 non-null  int32  \n",
      " 15  manufacturer_name_Daewoo         47485 non-null  int32  \n",
      " 16  manufacturer_name_Dodge          47485 non-null  int32  \n",
      " 17  manufacturer_name_Fiat           47485 non-null  int32  \n",
      " 18  manufacturer_name_Ford           47485 non-null  int32  \n",
      " 19  manufacturer_name_Geely          47485 non-null  int32  \n",
      " 20  manufacturer_name_Great Wall     47485 non-null  int32  \n",
      " 21  manufacturer_name_Honda          47485 non-null  int32  \n",
      " 22  manufacturer_name_Hyundai        47485 non-null  int32  \n",
      " 23  manufacturer_name_Infiniti       47485 non-null  int32  \n",
      " 24  manufacturer_name_Iveco          47485 non-null  int32  \n",
      " 25  manufacturer_name_Jaguar         47485 non-null  int32  \n",
      " 26  manufacturer_name_Jeep           47485 non-null  int32  \n",
      " 27  manufacturer_name_Kia            47485 non-null  int32  \n",
      " 28  manufacturer_name_LADA           47485 non-null  int32  \n",
      " 29  manufacturer_name_Lancia         47485 non-null  int32  \n",
      " 30  manufacturer_name_Land Rover     47485 non-null  int32  \n",
      " 31  manufacturer_name_Lexus          47485 non-null  int32  \n",
      " 32  manufacturer_name_Lifan          47485 non-null  int32  \n",
      " 33  manufacturer_name_Lincoln        47485 non-null  int32  \n",
      " 34  manufacturer_name_Mazda          47485 non-null  int32  \n",
      " 35  manufacturer_name_Mercedes-Benz  47485 non-null  int32  \n",
      " 36  manufacturer_name_Mini           47485 non-null  int32  \n",
      " 37  manufacturer_name_Mitsubishi     47485 non-null  int32  \n",
      " 38  manufacturer_name_Nissan         47485 non-null  int32  \n",
      " 39  manufacturer_name_Opel           47485 non-null  int32  \n",
      " 40  manufacturer_name_Peugeot        47485 non-null  int32  \n",
      " 41  manufacturer_name_Pontiac        47485 non-null  int32  \n",
      " 42  manufacturer_name_Porsche        47485 non-null  int32  \n",
      " 43  manufacturer_name_Renault        47485 non-null  int32  \n",
      " 44  manufacturer_name_Rover          47485 non-null  int32  \n",
      " 45  manufacturer_name_Saab           47485 non-null  int32  \n",
      " 46  manufacturer_name_Seat           47485 non-null  int32  \n",
      " 47  manufacturer_name_Skoda          47485 non-null  int32  \n",
      " 48  manufacturer_name_SsangYong      47485 non-null  int32  \n",
      " 49  manufacturer_name_Subaru         47485 non-null  int32  \n",
      " 50  manufacturer_name_Suzuki         47485 non-null  int32  \n",
      " 51  manufacturer_name_Toyota         47485 non-null  int32  \n",
      " 52  manufacturer_name_Volkswagen     47485 non-null  int32  \n",
      " 53  manufacturer_name_Volvo          47485 non-null  int32  \n",
      " 54  manufacturer_name_ВАЗ            47485 non-null  int32  \n",
      " 55  manufacturer_name_ГАЗ            47485 non-null  int32  \n",
      " 56  manufacturer_name_ЗАЗ            47485 non-null  int32  \n",
      " 57  manufacturer_name_Москвич        47485 non-null  int32  \n",
      " 58  manufacturer_name_УАЗ            47485 non-null  int32  \n",
      " 59  transmission_manual              47485 non-null  int32  \n",
      " 60  color_blue                       47485 non-null  int32  \n",
      " 61  color_brown                      47485 non-null  int32  \n",
      " 62  color_green                      47485 non-null  int32  \n",
      " 63  color_grey                       47485 non-null  int32  \n",
      " 64  color_orange                     47485 non-null  int32  \n",
      " 65  color_other                      47485 non-null  int32  \n",
      " 66  color_red                        47485 non-null  int32  \n",
      " 67  color_silver                     47485 non-null  int32  \n",
      " 68  color_violet                     47485 non-null  int32  \n",
      " 69  color_white                      47485 non-null  int32  \n",
      " 70  color_yellow                     47485 non-null  int32  \n",
      " 71  engine_fuel_gas                  47485 non-null  int32  \n",
      " 72  engine_fuel_gasoline             47485 non-null  int32  \n",
      " 73  engine_fuel_hybrid-diesel        47485 non-null  int32  \n",
      " 74  engine_fuel_hybrid-petrol        47485 non-null  int32  \n",
      " 75  body_type_coupe                  47485 non-null  int32  \n",
      " 76  body_type_hatchback              47485 non-null  int32  \n",
      " 77  body_type_liftback               47485 non-null  int32  \n",
      " 78  body_type_limousine              47485 non-null  int32  \n",
      " 79  body_type_minibus                47485 non-null  int32  \n",
      " 80  body_type_minivan                47485 non-null  int32  \n",
      " 81  body_type_pickup                 47485 non-null  int32  \n",
      " 82  body_type_sedan                  47485 non-null  int32  \n",
      " 83  body_type_suv                    47485 non-null  int32  \n",
      " 84  body_type_universal              47485 non-null  int32  \n",
      " 85  body_type_van                    47485 non-null  int32  \n",
      " 86  ownership_new                    47485 non-null  int32  \n",
      " 87  ownership_owned                  47485 non-null  int32  \n",
      " 88  type_of_drive_front              47485 non-null  int32  \n",
      " 89  type_of_drive_rear               47485 non-null  int32  \n",
      "dtypes: float64(1), int32(86), int64(3)\n",
      "memory usage: 17.4 MB\n"
     ]
    }
   ],
   "source": [
    "X_train_split.info()"
   ]
  },
  {
   "cell_type": "code",
   "execution_count": 24,
   "metadata": {},
   "outputs": [
    {
     "data": {
      "text/plain": [
       "((47485, 90), (47485,), (2500, 90), (2500,), (26995, 90), (26995,))"
      ]
     },
     "execution_count": 24,
     "metadata": {},
     "output_type": "execute_result"
    }
   ],
   "source": [
    "X_train_split.shape,y_train_split.shape,X_val_split.shape,y_val_split.shape,X_test1.shape,y_test.shape"
   ]
  },
  {
   "cell_type": "markdown",
   "metadata": {},
   "source": [
    "Model building"
   ]
  },
  {
   "cell_type": "code",
   "execution_count": 25,
   "metadata": {},
   "outputs": [],
   "source": [
    "tf.random.set_seed(42)\n",
    "\n",
    "# Build the model\n",
    "model = tf.keras.Sequential()\n",
    "\n",
    "# Input layer (automatically determined by input shape)\n",
    "model.add(tf.keras.layers.InputLayer(input_shape=(X_train1.shape[1],)))\n",
    "\n",
    "# Hidden layers\\\n",
    "model.add(tf.keras.layers.Dense(400, activation='relu'))\n",
    "\n",
    "model.add(tf.keras.layers.Dense(400, activation='relu'))\n",
    "model.add(tf.keras.layers.Dense(200, activation='relu'))  \n",
    "model.add(tf.keras.layers.Dense(200, activation='relu'))\n",
    "model.add(tf.keras.layers.Dense(150, activation='relu'))\n",
    "model.add(tf.keras.layers.Dense(150, activation='relu'))\n",
    "model.add(tf.keras.layers.Dense(100, activation='relu'))\n",
    "model.add(tf.keras.layers.Dense(100, activation='relu'))\n",
    "model.add(tf.keras.layers.Dense(50, activation='relu'))\n",
    "\n",
    "\n",
    "# Output layer\n",
    "model.add(tf.keras.layers.Dense(1,activation='relu'))  # For regression, no activation function is used for the output layer\n",
    "\n",
    "# Compile the model\n",
    "optimizer = tf.keras.optimizers.Adam(learning_rate=0.001)\n",
    "model.compile(optimizer=optimizer, loss='mae', metrics=['mae'])\n"
   ]
  },
  {
   "cell_type": "code",
   "execution_count": 26,
   "metadata": {},
   "outputs": [
    {
     "name": "stdout",
     "output_type": "stream",
     "text": [
      "Epoch 1/80\n",
      "186/186 [==============================] - 4s 7ms/step - loss: 5316.9590 - mae: 5316.9590 - val_loss: 5405.2246 - val_mae: 5405.2246\n",
      "Epoch 2/80\n",
      "186/186 [==============================] - 1s 7ms/step - loss: 4159.0132 - mae: 4159.0132 - val_loss: 4712.0640 - val_mae: 4712.0640\n",
      "Epoch 3/80\n",
      "186/186 [==============================] - 1s 7ms/step - loss: 4001.1028 - mae: 4001.1028 - val_loss: 4518.7598 - val_mae: 4518.7598\n",
      "Epoch 4/80\n",
      "186/186 [==============================] - 1s 6ms/step - loss: 3907.0710 - mae: 3907.0710 - val_loss: 4245.0498 - val_mae: 4245.0498\n",
      "Epoch 5/80\n",
      "186/186 [==============================] - 1s 6ms/step - loss: 3898.5142 - mae: 3898.5142 - val_loss: 4172.6147 - val_mae: 4172.6147\n",
      "Epoch 6/80\n",
      "186/186 [==============================] - 1s 6ms/step - loss: 3868.5425 - mae: 3868.5425 - val_loss: 3898.0532 - val_mae: 3898.0532\n",
      "Epoch 7/80\n",
      "186/186 [==============================] - 1s 6ms/step - loss: 3849.3962 - mae: 3849.3962 - val_loss: 4249.1685 - val_mae: 4249.1685\n",
      "Epoch 8/80\n",
      "186/186 [==============================] - 1s 6ms/step - loss: 3852.6130 - mae: 3852.6130 - val_loss: 4391.0444 - val_mae: 4391.0444\n",
      "Epoch 9/80\n",
      "186/186 [==============================] - 1s 6ms/step - loss: 3803.8804 - mae: 3803.8804 - val_loss: 4244.5000 - val_mae: 4244.4995\n",
      "Epoch 10/80\n",
      "186/186 [==============================] - 1s 6ms/step - loss: 3809.2852 - mae: 3809.2852 - val_loss: 4238.6382 - val_mae: 4238.6382\n",
      "Epoch 11/80\n",
      "186/186 [==============================] - 1s 6ms/step - loss: 3771.1243 - mae: 3771.1243 - val_loss: 4275.8975 - val_mae: 4275.8975\n",
      "Epoch 12/80\n",
      "186/186 [==============================] - 1s 6ms/step - loss: 3780.3877 - mae: 3780.3877 - val_loss: 4370.0742 - val_mae: 4370.0742\n",
      "Epoch 13/80\n",
      "186/186 [==============================] - 1s 6ms/step - loss: 3770.9448 - mae: 3770.9448 - val_loss: 4360.6206 - val_mae: 4360.6206\n",
      "Epoch 14/80\n",
      "186/186 [==============================] - 1s 6ms/step - loss: 3762.6965 - mae: 3762.6965 - val_loss: 4644.5806 - val_mae: 4644.5806\n",
      "Epoch 15/80\n",
      "186/186 [==============================] - 1s 7ms/step - loss: 3766.8696 - mae: 3766.8696 - val_loss: 4284.6108 - val_mae: 4284.6108\n",
      "Epoch 16/80\n",
      "186/186 [==============================] - 1s 6ms/step - loss: 3730.4116 - mae: 3730.4116 - val_loss: 4094.4116 - val_mae: 4094.4116\n",
      "Epoch 17/80\n",
      "186/186 [==============================] - 1s 6ms/step - loss: 3720.7546 - mae: 3720.7546 - val_loss: 4401.4248 - val_mae: 4401.4248\n",
      "Epoch 18/80\n",
      "186/186 [==============================] - 1s 6ms/step - loss: 3729.1143 - mae: 3729.1143 - val_loss: 4589.7808 - val_mae: 4589.7808\n",
      "Epoch 19/80\n",
      "186/186 [==============================] - 1s 6ms/step - loss: 3729.3623 - mae: 3729.3623 - val_loss: 4443.4058 - val_mae: 4443.4058\n",
      "Epoch 20/80\n",
      "186/186 [==============================] - 1s 6ms/step - loss: 3715.5928 - mae: 3715.5928 - val_loss: 4206.8589 - val_mae: 4206.8589\n",
      "Epoch 21/80\n",
      "186/186 [==============================] - 1s 6ms/step - loss: 3710.7549 - mae: 3710.7549 - val_loss: 4476.2090 - val_mae: 4476.2090\n",
      "Epoch 22/80\n",
      "186/186 [==============================] - 1s 6ms/step - loss: 3694.0393 - mae: 3694.0393 - val_loss: 4388.4849 - val_mae: 4388.4849\n",
      "Epoch 23/80\n",
      "186/186 [==============================] - 1s 6ms/step - loss: 3688.8711 - mae: 3688.8711 - val_loss: 4211.2690 - val_mae: 4211.2690\n",
      "Epoch 24/80\n",
      "186/186 [==============================] - 1s 6ms/step - loss: 3714.2595 - mae: 3714.2595 - val_loss: 4295.9087 - val_mae: 4295.9087\n",
      "Epoch 25/80\n",
      "186/186 [==============================] - 1s 6ms/step - loss: 3683.4622 - mae: 3683.4622 - val_loss: 4786.1582 - val_mae: 4786.1582\n",
      "Epoch 26/80\n",
      "186/186 [==============================] - 1s 6ms/step - loss: 3682.2339 - mae: 3682.2339 - val_loss: 4450.4653 - val_mae: 4450.4653\n",
      "Epoch 27/80\n",
      "186/186 [==============================] - 1s 6ms/step - loss: 3678.2520 - mae: 3678.2520 - val_loss: 4262.7065 - val_mae: 4262.7065\n",
      "Epoch 28/80\n",
      "186/186 [==============================] - 1s 6ms/step - loss: 3669.2314 - mae: 3669.2314 - val_loss: 4483.5366 - val_mae: 4483.5366\n",
      "Epoch 29/80\n",
      "186/186 [==============================] - 1s 6ms/step - loss: 3661.3970 - mae: 3661.3970 - val_loss: 4573.6318 - val_mae: 4573.6318\n",
      "Epoch 30/80\n",
      "186/186 [==============================] - 1s 6ms/step - loss: 3644.5166 - mae: 3644.5166 - val_loss: 4348.5186 - val_mae: 4348.5186\n",
      "Epoch 31/80\n",
      "186/186 [==============================] - 1s 6ms/step - loss: 3624.8455 - mae: 3624.8455 - val_loss: 4803.0586 - val_mae: 4803.0586\n",
      "Epoch 32/80\n",
      "186/186 [==============================] - 1s 6ms/step - loss: 3648.6675 - mae: 3648.6675 - val_loss: 4407.2720 - val_mae: 4407.2720\n",
      "Epoch 33/80\n",
      "186/186 [==============================] - 1s 6ms/step - loss: 3606.3064 - mae: 3606.3064 - val_loss: 4130.9458 - val_mae: 4130.9458\n",
      "Epoch 34/80\n",
      "186/186 [==============================] - 1s 7ms/step - loss: 3592.8594 - mae: 3592.8594 - val_loss: 4445.2417 - val_mae: 4445.2417\n",
      "Epoch 35/80\n",
      "186/186 [==============================] - 1s 7ms/step - loss: 3585.7771 - mae: 3585.7771 - val_loss: 4608.6406 - val_mae: 4608.6406\n",
      "Epoch 36/80\n",
      "186/186 [==============================] - 1s 7ms/step - loss: 3583.0107 - mae: 3583.0107 - val_loss: 4393.9956 - val_mae: 4393.9956\n",
      "Epoch 37/80\n",
      "186/186 [==============================] - 1s 6ms/step - loss: 3568.8042 - mae: 3568.8042 - val_loss: 4576.1240 - val_mae: 4576.1240\n",
      "Epoch 38/80\n",
      "186/186 [==============================] - 1s 6ms/step - loss: 3569.3350 - mae: 3569.3350 - val_loss: 4136.3438 - val_mae: 4136.3438\n",
      "Epoch 39/80\n",
      "186/186 [==============================] - 1s 7ms/step - loss: 3540.6013 - mae: 3540.6013 - val_loss: 4548.5913 - val_mae: 4548.5913\n",
      "Epoch 40/80\n",
      "186/186 [==============================] - 1s 6ms/step - loss: 3555.1992 - mae: 3555.1992 - val_loss: 4688.7529 - val_mae: 4688.7529\n",
      "Epoch 41/80\n",
      "186/186 [==============================] - 1s 6ms/step - loss: 3536.1001 - mae: 3536.1001 - val_loss: 4643.4927 - val_mae: 4643.4927\n",
      "Epoch 42/80\n",
      "186/186 [==============================] - 1s 6ms/step - loss: 3529.0366 - mae: 3529.0366 - val_loss: 4677.3281 - val_mae: 4677.3281\n",
      "Epoch 43/80\n",
      "186/186 [==============================] - 1s 6ms/step - loss: 3532.5920 - mae: 3532.5920 - val_loss: 4042.7551 - val_mae: 4042.7551\n",
      "Epoch 44/80\n",
      "186/186 [==============================] - 1s 6ms/step - loss: 3498.1394 - mae: 3498.1394 - val_loss: 4345.4409 - val_mae: 4345.4409\n",
      "Epoch 45/80\n",
      "186/186 [==============================] - 1s 6ms/step - loss: 3492.4854 - mae: 3492.4854 - val_loss: 4343.7979 - val_mae: 4343.7979\n",
      "Epoch 46/80\n",
      "186/186 [==============================] - 1s 6ms/step - loss: 3495.5449 - mae: 3495.5449 - val_loss: 4181.3213 - val_mae: 4181.3213\n",
      "Epoch 47/80\n",
      "186/186 [==============================] - 1s 6ms/step - loss: 3486.0139 - mae: 3486.0139 - val_loss: 4543.9585 - val_mae: 4543.9585\n",
      "Epoch 48/80\n",
      "186/186 [==============================] - 1s 6ms/step - loss: 3495.2454 - mae: 3495.2454 - val_loss: 4129.2822 - val_mae: 4129.2822\n",
      "Epoch 49/80\n",
      "186/186 [==============================] - 1s 6ms/step - loss: 3484.0886 - mae: 3484.0886 - val_loss: 4718.2095 - val_mae: 4718.2095\n",
      "Epoch 50/80\n",
      "186/186 [==============================] - 1s 6ms/step - loss: 3440.0159 - mae: 3440.0159 - val_loss: 4497.0864 - val_mae: 4497.0864\n",
      "Epoch 51/80\n",
      "186/186 [==============================] - 1s 6ms/step - loss: 3445.1294 - mae: 3445.1294 - val_loss: 4520.4448 - val_mae: 4520.4448\n",
      "Epoch 52/80\n",
      "186/186 [==============================] - 1s 6ms/step - loss: 3475.8877 - mae: 3475.8877 - val_loss: 4497.4102 - val_mae: 4497.4102\n",
      "Epoch 53/80\n",
      "186/186 [==============================] - 1s 6ms/step - loss: 3432.9478 - mae: 3432.9478 - val_loss: 4354.4463 - val_mae: 4354.4463\n",
      "Epoch 54/80\n",
      "186/186 [==============================] - 1s 6ms/step - loss: 3452.2214 - mae: 3452.2214 - val_loss: 4334.6147 - val_mae: 4334.6147\n",
      "Epoch 55/80\n",
      "186/186 [==============================] - 1s 6ms/step - loss: 3421.7944 - mae: 3421.7944 - val_loss: 4549.1768 - val_mae: 4549.1768\n",
      "Epoch 56/80\n",
      "186/186 [==============================] - 1s 6ms/step - loss: 3424.4067 - mae: 3424.4067 - val_loss: 4719.8472 - val_mae: 4719.8472\n",
      "Epoch 57/80\n",
      "186/186 [==============================] - 1s 6ms/step - loss: 3450.6523 - mae: 3450.6523 - val_loss: 4369.5605 - val_mae: 4369.5605\n",
      "Epoch 58/80\n",
      "186/186 [==============================] - 1s 7ms/step - loss: 3396.0793 - mae: 3396.0793 - val_loss: 4236.9634 - val_mae: 4236.9634\n",
      "Epoch 59/80\n",
      "186/186 [==============================] - 1s 6ms/step - loss: 3434.4380 - mae: 3434.4380 - val_loss: 4460.7769 - val_mae: 4460.7769\n",
      "Epoch 60/80\n",
      "186/186 [==============================] - 1s 6ms/step - loss: 3500.7212 - mae: 3500.7212 - val_loss: 4102.1641 - val_mae: 4102.1641\n",
      "Epoch 61/80\n",
      "186/186 [==============================] - 1s 6ms/step - loss: 3428.7732 - mae: 3428.7732 - val_loss: 4162.4683 - val_mae: 4162.4683\n",
      "Epoch 62/80\n",
      "186/186 [==============================] - 1s 6ms/step - loss: 3463.4214 - mae: 3463.4214 - val_loss: 4331.5674 - val_mae: 4331.5674\n",
      "Epoch 63/80\n",
      "186/186 [==============================] - 1s 6ms/step - loss: 3458.7466 - mae: 3458.7466 - val_loss: 4284.8052 - val_mae: 4284.8052\n",
      "Epoch 64/80\n",
      "186/186 [==============================] - 1s 7ms/step - loss: 3393.9421 - mae: 3393.9421 - val_loss: 3951.3020 - val_mae: 3951.3020\n",
      "Epoch 65/80\n",
      "186/186 [==============================] - 1s 6ms/step - loss: 3488.1306 - mae: 3488.1306 - val_loss: 4613.0337 - val_mae: 4613.0337\n",
      "Epoch 66/80\n",
      "186/186 [==============================] - 1s 6ms/step - loss: 3460.5879 - mae: 3460.5879 - val_loss: 4504.4458 - val_mae: 4504.4458\n",
      "Epoch 67/80\n",
      "186/186 [==============================] - 1s 6ms/step - loss: 3541.9238 - mae: 3541.9238 - val_loss: 3838.8936 - val_mae: 3838.8936\n",
      "Epoch 68/80\n",
      "186/186 [==============================] - 1s 6ms/step - loss: 3372.2231 - mae: 3372.2231 - val_loss: 4227.5322 - val_mae: 4227.5322\n",
      "Epoch 69/80\n",
      "186/186 [==============================] - 1s 6ms/step - loss: 3466.3721 - mae: 3466.3721 - val_loss: 4963.5342 - val_mae: 4963.5342\n",
      "Epoch 70/80\n",
      "186/186 [==============================] - 1s 6ms/step - loss: 3497.7900 - mae: 3497.7900 - val_loss: 4578.8525 - val_mae: 4578.8525\n",
      "Epoch 71/80\n",
      "186/186 [==============================] - 1s 6ms/step - loss: 3516.9812 - mae: 3516.9812 - val_loss: 4677.6841 - val_mae: 4677.6841\n",
      "Epoch 72/80\n",
      "186/186 [==============================] - 1s 6ms/step - loss: 3690.3848 - mae: 3690.3848 - val_loss: 4641.0586 - val_mae: 4641.0586\n",
      "Epoch 73/80\n",
      "186/186 [==============================] - 1s 6ms/step - loss: 3774.5103 - mae: 3774.5103 - val_loss: 4265.6299 - val_mae: 4265.6299\n",
      "Epoch 74/80\n",
      "186/186 [==============================] - 1s 6ms/step - loss: 3779.3188 - mae: 3779.3188 - val_loss: 5126.6113 - val_mae: 5126.6113\n",
      "Epoch 75/80\n",
      "186/186 [==============================] - 1s 6ms/step - loss: 3532.1343 - mae: 3532.1343 - val_loss: 4350.6646 - val_mae: 4350.6646\n",
      "Epoch 76/80\n",
      "186/186 [==============================] - 1s 6ms/step - loss: 3420.9280 - mae: 3420.9280 - val_loss: 4275.2705 - val_mae: 4275.2710\n",
      "Epoch 77/80\n",
      "186/186 [==============================] - 1s 6ms/step - loss: 3441.5981 - mae: 3441.5981 - val_loss: 4689.9268 - val_mae: 4689.9268\n",
      "Epoch 78/80\n",
      "186/186 [==============================] - 1s 6ms/step - loss: 3502.8140 - mae: 3502.8140 - val_loss: 4541.9790 - val_mae: 4541.9790\n",
      "Epoch 79/80\n",
      "186/186 [==============================] - 1s 6ms/step - loss: 3412.4294 - mae: 3412.4294 - val_loss: 4670.4180 - val_mae: 4670.4180\n",
      "Epoch 80/80\n",
      "186/186 [==============================] - 1s 6ms/step - loss: 3457.5254 - mae: 3457.5254 - val_loss: 4258.8521 - val_mae: 4258.8521\n"
     ]
    }
   ],
   "source": [
    "# Train the model\n",
    "history = model.fit(X_train_split, y_train_split, \n",
    "                    epochs=80, \n",
    "                    batch_size=256, \n",
    "                    validation_data=(X_val_split, y_val_split))\n"
   ]
  },
  {
   "cell_type": "markdown",
   "metadata": {},
   "source": [
    "Compiling the model"
   ]
  },
  {
   "cell_type": "code",
   "execution_count": 27,
   "metadata": {},
   "outputs": [
    {
     "name": "stdout",
     "output_type": "stream",
     "text": [
      "844/844 [==============================] - 2s 2ms/step\n",
      "R² Score on Test Data: -0.08719544639647703\n"
     ]
    }
   ],
   "source": [
    "\n",
    "\n",
    "# Get predictions on the test set\n",
    "y_test_pred = model.predict(X_test1)  # Flatten to ensure 1D array\n",
    "\n",
    "# Compute R² score on test set\n",
    "r2_test = r2_score(y_test, y_test_pred)\n",
    "print(\"R² Score on Test Data:\", r2_test)\n"
   ]
  },
  {
   "cell_type": "code",
   "execution_count": 28,
   "metadata": {},
   "outputs": [
    {
     "name": "stdout",
     "output_type": "stream",
     "text": [
      "79/79 [==============================] - 0s 2ms/step\n",
      "R² Score on Validation Data: -0.10952527429200631\n"
     ]
    }
   ],
   "source": [
    "\n",
    "\n",
    "# Get predictions on validation data (already a NumPy array)\n",
    "y_val_pred = model.predict(X_val_split)  # Ensure it's a 1D array\n",
    "\n",
    "# Compute R² score\n",
    "r2 = r2_score(y_val_split, y_val_pred)\n",
    "print(\"R² Score on Validation Data:\", r2)\n"
   ]
  },
  {
   "cell_type": "code",
   "execution_count": 25,
   "metadata": {},
   "outputs": [],
   "source": [
    "from sklearn.metrics import mean_squared_error,mean_absolute_error\n",
    "from sklearn.ensemble import RandomForestRegressor"
   ]
  },
  {
   "cell_type": "code",
   "execution_count": 26,
   "metadata": {},
   "outputs": [],
   "source": [
    "rf = RandomForestRegressor()\n",
    "model=rf.fit(X_train_split,y_train_split)"
   ]
  },
  {
   "cell_type": "code",
   "execution_count": 27,
   "metadata": {},
   "outputs": [],
   "source": [
    "y_pred2 = rf.predict(X_test1)"
   ]
  },
  {
   "cell_type": "code",
   "execution_count": 28,
   "metadata": {},
   "outputs": [
    {
     "name": "stdout",
     "output_type": "stream",
     "text": [
      "The R-square for Random Forest is:  0.9583720674711406\n"
     ]
    }
   ],
   "source": [
    "r2=rf.score(X_test1,y_test)\n",
    "print('The R-square for Random Forest is: ', r2)"
   ]
  }
 ],
 "metadata": {
  "kernelspec": {
   "display_name": "gputf_env",
   "language": "python",
   "name": "python3"
  },
  "language_info": {
   "codemirror_mode": {
    "name": "ipython",
    "version": 3
   },
   "file_extension": ".py",
   "mimetype": "text/x-python",
   "name": "python",
   "nbconvert_exporter": "python",
   "pygments_lexer": "ipython3",
   "version": "3.10.16"
  }
 },
 "nbformat": 4,
 "nbformat_minor": 2
}
