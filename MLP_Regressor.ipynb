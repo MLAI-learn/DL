{
 "cells": [
  {
   "cell_type": "markdown",
   "metadata": {},
   "source": [
    "  MLP WITH KERAS\n",
    "\n",
    "Building image classifier using sequential API\n"
   ]
  },
  {
   "cell_type": "markdown",
   "metadata": {},
   "source": [
    "1.Loading the data from Fashion MNSIT"
   ]
  },
  {
   "cell_type": "code",
   "execution_count": 13,
   "metadata": {},
   "outputs": [],
   "source": [
    "import tensorflow as tf\n",
    "import matplotlib.pyplot as plt\n",
    "import pandas as pd\n",
    "import numpy as np"
   ]
  },
  {
   "cell_type": "code",
   "execution_count": 2,
   "metadata": {},
   "outputs": [],
   "source": [
    "fashion_mnist = tf.keras.datasets.fashion_mnist.load_data()\n",
    "(x_train, y_train), (x_test, y_test) = fashion_mnist\n",
    "x_train,y_train = x_train[:-7000],y_train[:-7000]\n",
    "x_valid,y_valid = x_train[-7000:],y_train[-7000:]\n"
   ]
  },
  {
   "cell_type": "code",
   "execution_count": 3,
   "metadata": {},
   "outputs": [
    {
     "data": {
      "text/plain": [
       "((53000, 28, 28), dtype('uint8'))"
      ]
     },
     "execution_count": 3,
     "metadata": {},
     "output_type": "execute_result"
    }
   ],
   "source": [
    "x_train.shape,x_train.dtype"
   ]
  },
  {
   "cell_type": "code",
   "execution_count": 4,
   "metadata": {},
   "outputs": [],
   "source": [
    "x_train,x_test,x_valid = x_train/255.0,x_test/255.0,x_valid/255.0"
   ]
  },
  {
   "cell_type": "code",
   "execution_count": 5,
   "metadata": {},
   "outputs": [
    {
     "data": {
      "text/plain": [
       "'Ankle boot'"
      ]
     },
     "execution_count": 5,
     "metadata": {},
     "output_type": "execute_result"
    }
   ],
   "source": [
    "class_names = [\"T-shirt/top\", \"Trouser\", \"Pullover\", \"Dress\", \"Coat\",\n",
    "               \"Sandal\", \"Shirt\", \"Sneaker\", \"Bag\", \"Ankle boot\"]\n",
    "class_names[y_train[0]]"
   ]
  },
  {
   "cell_type": "markdown",
   "metadata": {},
   "source": [
    "Building the model "
   ]
  },
  {
   "cell_type": "code",
   "execution_count": 6,
   "metadata": {},
   "outputs": [],
   "source": [
    "tf.random.set_seed(42)\n",
    "model= tf.keras.models.Sequential([\n",
    "    tf.keras.layers.Flatten(input_shape=[28,28]),\n",
    "    tf.keras.layers.Dense(200,activation=\"relu\"),\n",
    "    tf.keras.layers.Dense(200,activation=\"relu\"),\n",
    "    tf.keras.layers.Dense(10,activation=\"softmax\")\n",
    "    \n",
    "])"
   ]
  },
  {
   "cell_type": "code",
   "execution_count": 7,
   "metadata": {},
   "outputs": [
    {
     "name": "stdout",
     "output_type": "stream",
     "text": [
      "Model: \"sequential\"\n",
      "_________________________________________________________________\n",
      " Layer (type)                Output Shape              Param #   \n",
      "=================================================================\n",
      " flatten (Flatten)           (None, 784)               0         \n",
      "                                                                 \n",
      " dense (Dense)               (None, 200)               157000    \n",
      "                                                                 \n",
      " dense_1 (Dense)             (None, 200)               40200     \n",
      "                                                                 \n",
      " dense_2 (Dense)             (None, 10)                2010      \n",
      "                                                                 \n",
      "=================================================================\n",
      "Total params: 199,210\n",
      "Trainable params: 199,210\n",
      "Non-trainable params: 0\n",
      "_________________________________________________________________\n"
     ]
    }
   ],
   "source": [
    "model.summary()"
   ]
  },
  {
   "cell_type": "markdown",
   "metadata": {},
   "source": [
    "Compiling the model"
   ]
  },
  {
   "cell_type": "code",
   "execution_count": 8,
   "metadata": {},
   "outputs": [],
   "source": [
    "model.compile(loss=\"sparse_categorical_crossentropy\",\n",
    "                optimizer=tf.keras.optimizers.Adam(),\n",
    "                metrics=[\"accuracy\"])"
   ]
  },
  {
   "cell_type": "markdown",
   "metadata": {},
   "source": [
    "Training and evaluating the model"
   ]
  },
  {
   "cell_type": "code",
   "execution_count": 9,
   "metadata": {},
   "outputs": [
    {
     "name": "stdout",
     "output_type": "stream",
     "text": [
      "Epoch 1/30\n",
      "1657/1657 [==============================] - 8s 4ms/step - loss: 0.4825 - accuracy: 0.8270 - val_loss: 0.3916 - val_accuracy: 0.8556\n",
      "Epoch 2/30\n",
      "1657/1657 [==============================] - 7s 4ms/step - loss: 0.3653 - accuracy: 0.8658 - val_loss: 0.3280 - val_accuracy: 0.8797\n",
      "Epoch 3/30\n",
      "1657/1657 [==============================] - 7s 4ms/step - loss: 0.3291 - accuracy: 0.8797 - val_loss: 0.2911 - val_accuracy: 0.8969\n",
      "Epoch 4/30\n",
      "1657/1657 [==============================] - 7s 4ms/step - loss: 0.3044 - accuracy: 0.8879 - val_loss: 0.2834 - val_accuracy: 0.8936\n",
      "Epoch 5/30\n",
      "1657/1657 [==============================] - 7s 4ms/step - loss: 0.2861 - accuracy: 0.8945 - val_loss: 0.2783 - val_accuracy: 0.8973\n",
      "Epoch 6/30\n",
      "1657/1657 [==============================] - 7s 4ms/step - loss: 0.2735 - accuracy: 0.8975 - val_loss: 0.2443 - val_accuracy: 0.9077\n",
      "Epoch 7/30\n",
      "1657/1657 [==============================] - 8s 5ms/step - loss: 0.2577 - accuracy: 0.9032 - val_loss: 0.2512 - val_accuracy: 0.9071\n",
      "Epoch 8/30\n",
      "1657/1657 [==============================] - 8s 5ms/step - loss: 0.2472 - accuracy: 0.9064 - val_loss: 0.2520 - val_accuracy: 0.9089\n",
      "Epoch 9/30\n",
      "1657/1657 [==============================] - 8s 5ms/step - loss: 0.2392 - accuracy: 0.9097 - val_loss: 0.2435 - val_accuracy: 0.9107\n",
      "Epoch 10/30\n",
      "1657/1657 [==============================] - 8s 5ms/step - loss: 0.2277 - accuracy: 0.9132 - val_loss: 0.2172 - val_accuracy: 0.9169\n",
      "Epoch 11/30\n",
      "1657/1657 [==============================] - 7s 4ms/step - loss: 0.2167 - accuracy: 0.9177 - val_loss: 0.2043 - val_accuracy: 0.9230\n",
      "Epoch 12/30\n",
      "1657/1657 [==============================] - 7s 5ms/step - loss: 0.2096 - accuracy: 0.9193 - val_loss: 0.2011 - val_accuracy: 0.9187\n",
      "Epoch 13/30\n",
      "1657/1657 [==============================] - 7s 4ms/step - loss: 0.2014 - accuracy: 0.9239 - val_loss: 0.1854 - val_accuracy: 0.9261\n",
      "Epoch 14/30\n",
      "1657/1657 [==============================] - 7s 4ms/step - loss: 0.1958 - accuracy: 0.9266 - val_loss: 0.1825 - val_accuracy: 0.9313\n",
      "Epoch 15/30\n",
      "1657/1657 [==============================] - 7s 4ms/step - loss: 0.1882 - accuracy: 0.9277 - val_loss: 0.1907 - val_accuracy: 0.9239\n",
      "Epoch 16/30\n",
      "1657/1657 [==============================] - 7s 4ms/step - loss: 0.1820 - accuracy: 0.9303 - val_loss: 0.1636 - val_accuracy: 0.9356\n",
      "Epoch 17/30\n",
      "1657/1657 [==============================] - 7s 4ms/step - loss: 0.1757 - accuracy: 0.9332 - val_loss: 0.1693 - val_accuracy: 0.9354\n",
      "Epoch 18/30\n",
      "1657/1657 [==============================] - 7s 4ms/step - loss: 0.1707 - accuracy: 0.9342 - val_loss: 0.1661 - val_accuracy: 0.9390\n",
      "Epoch 19/30\n",
      "1657/1657 [==============================] - 7s 4ms/step - loss: 0.1645 - accuracy: 0.9381 - val_loss: 0.1558 - val_accuracy: 0.9387\n",
      "Epoch 20/30\n",
      "1657/1657 [==============================] - 7s 4ms/step - loss: 0.1583 - accuracy: 0.9388 - val_loss: 0.1465 - val_accuracy: 0.9440\n",
      "Epoch 21/30\n",
      "1657/1657 [==============================] - 7s 4ms/step - loss: 0.1573 - accuracy: 0.9400 - val_loss: 0.1534 - val_accuracy: 0.9437\n",
      "Epoch 22/30\n",
      "1657/1657 [==============================] - 7s 4ms/step - loss: 0.1481 - accuracy: 0.9421 - val_loss: 0.1292 - val_accuracy: 0.9513\n",
      "Epoch 23/30\n",
      "1657/1657 [==============================] - 7s 4ms/step - loss: 0.1454 - accuracy: 0.9437 - val_loss: 0.1299 - val_accuracy: 0.9526\n",
      "Epoch 24/30\n",
      "1657/1657 [==============================] - 7s 4ms/step - loss: 0.1388 - accuracy: 0.9471 - val_loss: 0.1478 - val_accuracy: 0.9420\n",
      "Epoch 25/30\n",
      "1657/1657 [==============================] - 7s 4ms/step - loss: 0.1380 - accuracy: 0.9464 - val_loss: 0.1201 - val_accuracy: 0.9536\n",
      "Epoch 26/30\n",
      "1657/1657 [==============================] - 7s 4ms/step - loss: 0.1337 - accuracy: 0.9494 - val_loss: 0.1384 - val_accuracy: 0.9479\n",
      "Epoch 27/30\n",
      "1657/1657 [==============================] - 7s 4ms/step - loss: 0.1320 - accuracy: 0.9498 - val_loss: 0.1216 - val_accuracy: 0.9521\n",
      "Epoch 28/30\n",
      "1657/1657 [==============================] - 7s 4ms/step - loss: 0.1241 - accuracy: 0.9525 - val_loss: 0.1116 - val_accuracy: 0.9579\n",
      "Epoch 29/30\n",
      "1657/1657 [==============================] - 7s 4ms/step - loss: 0.1255 - accuracy: 0.9513 - val_loss: 0.1098 - val_accuracy: 0.9559\n",
      "Epoch 30/30\n",
      "1657/1657 [==============================] - 7s 4ms/step - loss: 0.1206 - accuracy: 0.9531 - val_loss: 0.1045 - val_accuracy: 0.9601\n"
     ]
    }
   ],
   "source": [
    "h = model.fit(x_train,y_train,epochs=30,validation_data=(x_valid,y_valid))"
   ]
  },
  {
   "cell_type": "markdown",
   "metadata": {},
   "source": [
    "Plotting the learning curves"
   ]
  },
  {
   "cell_type": "code",
   "execution_count": 10,
   "metadata": {},
   "outputs": [
    {
     "data": {
      "image/png": "[encoded data removed]",
      "text/plain": [
       "<Figure size 800x500 with 1 Axes>"
      ]
     },
     "metadata": {},
     "output_type": "display_data"
    }
   ],
   "source": [
    "pd.DataFrame(h.history).plot(\n",
    "figsize=(8, 5), xlim=[0, 29], ylim=[0, 1], grid=True, xlabel=\"Epoch\",\n",
    "style=[\"r--\", \"r--.\", \"b-\", \"b-*\"])\n",
    "plt.show()"
   ]
  },
  {
   "cell_type": "code",
   "execution_count": 11,
   "metadata": {},
   "outputs": [
    {
     "name": "stdout",
     "output_type": "stream",
     "text": [
      "313/313 [==============================] - 1s 3ms/step - loss: 0.4711 - accuracy: 0.8904\n"
     ]
    },
    {
     "data": {
      "text/plain": [
       "[0.4710826277732849, 0.8903999924659729]"
      ]
     },
     "execution_count": 11,
     "metadata": {},
     "output_type": "execute_result"
    }
   ],
   "source": [
    "model.evaluate(x_test, y_test)"
   ]
  },
  {
   "cell_type": "markdown",
   "metadata": {},
   "source": [
    "Using the model to make predictions"
   ]
  },
  {
   "cell_type": "code",
   "execution_count": 14,
   "metadata": {},
   "outputs": [
    {
     "name": "stdout",
     "output_type": "stream",
     "text": [
      "1/1 [==============================] - 0s 112ms/step\n"
     ]
    },
    {
     "data": {
      "text/plain": [
       "array([[0., 0., 0., 0., 0., 0., 0., 0., 0., 1.],\n",
       "       [0., 0., 1., 0., 0., 0., 0., 0., 0., 0.],\n",
       "       [0., 1., 0., 0., 0., 0., 0., 0., 0., 0.]], dtype=float32)"
      ]
     },
     "execution_count": 14,
     "metadata": {},
     "output_type": "execute_result"
    }
   ],
   "source": [
    "X_new = x_test[:3]\n",
    "y_proba = model.predict(X_new)\n",
    "y_proba.round(2)"
   ]
  },
  {
   "cell_type": "markdown",
   "metadata": {},
   "source": [
    "Comparing test_new and y_proba"
   ]
  },
  {
   "cell_type": "code",
   "execution_count": 15,
   "metadata": {},
   "outputs": [
    {
     "data": {
      "text/plain": [
       "array([9, 2, 1], dtype=int64)"
      ]
     },
     "execution_count": 15,
     "metadata": {},
     "output_type": "execute_result"
    }
   ],
   "source": [
    "y_pred = y_proba.argmax(axis=-1)\n",
    "y_pred"
   ]
  },
  {
   "cell_type": "code",
   "execution_count": 16,
   "metadata": {},
   "outputs": [
    {
     "data": {
      "text/plain": [
       "array(['Ankle boot', 'Pullover', 'Trouser'], dtype='<U11')"
      ]
     },
     "execution_count": 16,
     "metadata": {},
     "output_type": "execute_result"
    }
   ],
   "source": [
    "np.array(class_names)[y_pred]"
   ]
  },
  {
   "cell_type": "code",
   "execution_count": 17,
   "metadata": {},
   "outputs": [
    {
     "data": {
      "text/plain": [
       "array([9, 2, 1], dtype=uint8)"
      ]
     },
     "execution_count": 17,
     "metadata": {},
     "output_type": "execute_result"
    }
   ],
   "source": [
    "y_new = y_test[:3]\n",
    "y_new"
   ]
  }
 ],
 "metadata": {
  "kernelspec": {
   "display_name": "gputf_env",
   "language": "python",
   "name": "python3"
  },
  "language_info": {
   "codemirror_mode": {
    "name": "ipython",
    "version": 3
   },
   "file_extension": ".py",
   "mimetype": "text/x-python",
   "name": "python",
   "nbconvert_exporter": "python",
   "pygments_lexer": "ipython3",
   "version": "3.10.16"
  }
 },
 "nbformat": 4,
 "nbformat_minor": 2
}
