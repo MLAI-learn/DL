{
 "cells": [
  {
   "cell_type": "markdown",
   "metadata": {},
   "source": [
    "  MLP WITH KERAS\n",
    "\n",
    "Building image classifier using sequential API\n"
   ]
  },
  {
   "cell_type": "markdown",
   "metadata": {},
   "source": [
    "1.Loading the data from Fashion MNSIT"
   ]
  },
  {
   "cell_type": "code",
   "execution_count": 1,
   "metadata": {},
   "outputs": [],
   "source": [
    "import tensorflow as tf\n",
    "import matplotlib.pyplot as plt\n",
    "import pandas as pd\n",
    "import numpy as np"
   ]
  },
  {
   "cell_type": "code",
   "execution_count": 2,
   "metadata": {},
   "outputs": [],
   "source": [
    "fashion_mnist = tf.keras.datasets.fashion_mnist.load_data()\n",
    "(x_train, y_train), (x_test, y_test) = fashion_mnist\n",
    "x_train,y_train = x_train[:-7000],y_train[:-7000]\n",
    "x_valid,y_valid = x_train[-7000:],y_train[-7000:]\n"
   ]
  },
  {
   "cell_type": "code",
   "execution_count": 3,
   "metadata": {},
   "outputs": [
    {
     "data": {
      "text/plain": [
       "((53000, 28, 28), dtype('uint8'))"
      ]
     },
     "execution_count": 3,
     "metadata": {},
     "output_type": "execute_result"
    }
   ],
   "source": [
    "x_train.shape,x_train.dtype"
   ]
  },
  {
   "cell_type": "code",
   "execution_count": 4,
   "metadata": {},
   "outputs": [],
   "source": [
    "x_train,x_test,x_valid = x_train/255.0,x_test/255.0,x_valid/255.0"
   ]
  },
  {
   "cell_type": "code",
   "execution_count": 5,
   "metadata": {},
   "outputs": [
    {
     "data": {
      "text/plain": [
       "'Ankle boot'"
      ]
     },
     "execution_count": 5,
     "metadata": {},
     "output_type": "execute_result"
    }
   ],
   "source": [
    "class_names = [\"T-shirt/top\", \"Trouser\", \"Pullover\", \"Dress\", \"Coat\",\n",
    "               \"Sandal\", \"Shirt\", \"Sneaker\", \"Bag\", \"Ankle boot\"]\n",
    "class_names[y_train[0]]"
   ]
  },
  {
   "cell_type": "markdown",
   "metadata": {},
   "source": [
    "Building the model "
   ]
  },
  {
   "cell_type": "code",
   "execution_count": 6,
   "metadata": {},
   "outputs": [],
   "source": [
    "tf.random.set_seed(42)\n",
    "model= tf.keras.models.Sequential([\n",
    "    tf.keras.layers.Flatten(input_shape=[28,28]),\n",
    "    tf.keras.layers.Dense(200,activation=\"relu\"),\n",
    "    tf.keras.layers.Dense(200,activation=\"relu\"),\n",
    "    tf.keras.layers.Dense(10,activation=\"softmax\")\n",
    "    \n",
    "])"
   ]
  },
  {
   "cell_type": "code",
   "execution_count": 7,
   "metadata": {},
   "outputs": [
    {
     "name": "stdout",
     "output_type": "stream",
     "text": [
      "Model: \"sequential\"\n",
      "_________________________________________________________________\n",
      " Layer (type)                Output Shape              Param #   \n",
      "=================================================================\n",
      " flatten (Flatten)           (None, 784)               0         \n",
      "                                                                 \n",
      " dense (Dense)               (None, 200)               157000    \n",
      "                                                                 \n",
      " dense_1 (Dense)             (None, 200)               40200     \n",
      "                                                                 \n",
      " dense_2 (Dense)             (None, 10)                2010      \n",
      "                                                                 \n",
      "=================================================================\n",
      "Total params: 199,210\n",
      "Trainable params: 199,210\n",
      "Non-trainable params: 0\n",
      "_________________________________________________________________\n"
     ]
    }
   ],
   "source": [
    "model.summary()"
   ]
  },
  {
   "cell_type": "markdown",
   "metadata": {},
   "source": [
    "Compiling the model"
   ]
  },
  {
   "cell_type": "code",
   "execution_count": 8,
   "metadata": {},
   "outputs": [],
   "source": [
    "model.compile(loss=\"sparse_categorical_crossentropy\",\n",
    "                optimizer=tf.keras.optimizers.Adam(),\n",
    "                metrics=[\"accuracy\"])"
   ]
  },
  {
   "cell_type": "markdown",
   "metadata": {},
   "source": [
    "Training and evaluating the model"
   ]
  },
  {
   "cell_type": "code",
   "execution_count": 9,
   "metadata": {},
   "outputs": [
    {
     "name": "stdout",
     "output_type": "stream",
     "text": [
      "Epoch 1/30\n",
      "1657/1657 [==============================] - 9s 5ms/step - loss: 0.4821 - accuracy: 0.8271 - val_loss: 0.3881 - val_accuracy: 0.8574\n",
      "Epoch 2/30\n",
      "1657/1657 [==============================] - 7s 4ms/step - loss: 0.3673 - accuracy: 0.8647 - val_loss: 0.3270 - val_accuracy: 0.8820\n",
      "Epoch 3/30\n",
      "1657/1657 [==============================] - 7s 4ms/step - loss: 0.3276 - accuracy: 0.8780 - val_loss: 0.2873 - val_accuracy: 0.8941\n",
      "Epoch 4/30\n",
      "1657/1657 [==============================] - 8s 5ms/step - loss: 0.3014 - accuracy: 0.8891 - val_loss: 0.2850 - val_accuracy: 0.8943\n",
      "Epoch 5/30\n",
      "1657/1657 [==============================] - 8s 5ms/step - loss: 0.2849 - accuracy: 0.8940 - val_loss: 0.2731 - val_accuracy: 0.8991\n",
      "Epoch 6/30\n",
      "1657/1657 [==============================] - 8s 5ms/step - loss: 0.2721 - accuracy: 0.8986 - val_loss: 0.2459 - val_accuracy: 0.9103\n",
      "Epoch 7/30\n",
      "1657/1657 [==============================] - 8s 5ms/step - loss: 0.2557 - accuracy: 0.9029 - val_loss: 0.2622 - val_accuracy: 0.9017\n",
      "Epoch 8/30\n",
      "1657/1657 [==============================] - 7s 4ms/step - loss: 0.2443 - accuracy: 0.9081 - val_loss: 0.2462 - val_accuracy: 0.9107\n",
      "Epoch 9/30\n",
      "1657/1657 [==============================] - 7s 4ms/step - loss: 0.2355 - accuracy: 0.9114 - val_loss: 0.2123 - val_accuracy: 0.9209\n",
      "Epoch 10/30\n",
      "1657/1657 [==============================] - 7s 4ms/step - loss: 0.2249 - accuracy: 0.9155 - val_loss: 0.2290 - val_accuracy: 0.9137\n",
      "Epoch 11/30\n",
      "1657/1657 [==============================] - 8s 5ms/step - loss: 0.2171 - accuracy: 0.9178 - val_loss: 0.2034 - val_accuracy: 0.9210\n",
      "Epoch 12/30\n",
      "1657/1657 [==============================] - 8s 5ms/step - loss: 0.2055 - accuracy: 0.9224 - val_loss: 0.2091 - val_accuracy: 0.9200\n",
      "Epoch 13/30\n",
      "1657/1657 [==============================] - 9s 5ms/step - loss: 0.2005 - accuracy: 0.9232 - val_loss: 0.1973 - val_accuracy: 0.9269\n",
      "Epoch 14/30\n",
      "1657/1657 [==============================] - 9s 6ms/step - loss: 0.1928 - accuracy: 0.9266 - val_loss: 0.1819 - val_accuracy: 0.9283\n",
      "Epoch 15/30\n",
      "1657/1657 [==============================] - 8s 5ms/step - loss: 0.1859 - accuracy: 0.9282 - val_loss: 0.1853 - val_accuracy: 0.9300\n",
      "Epoch 16/30\n",
      "1657/1657 [==============================] - 7s 4ms/step - loss: 0.1790 - accuracy: 0.9310 - val_loss: 0.1669 - val_accuracy: 0.9324\n",
      "Epoch 17/30\n",
      "1657/1657 [==============================] - 7s 4ms/step - loss: 0.1751 - accuracy: 0.9330 - val_loss: 0.1602 - val_accuracy: 0.9371\n",
      "Epoch 18/30\n",
      "1657/1657 [==============================] - 8s 5ms/step - loss: 0.1687 - accuracy: 0.9357 - val_loss: 0.1517 - val_accuracy: 0.9441\n",
      "Epoch 19/30\n",
      "1657/1657 [==============================] - 8s 5ms/step - loss: 0.1645 - accuracy: 0.9368 - val_loss: 0.1566 - val_accuracy: 0.9391\n",
      "Epoch 20/30\n",
      "1657/1657 [==============================] - 8s 5ms/step - loss: 0.1597 - accuracy: 0.9402 - val_loss: 0.1447 - val_accuracy: 0.9473\n",
      "Epoch 21/30\n",
      "1657/1657 [==============================] - 10s 6ms/step - loss: 0.1534 - accuracy: 0.9407 - val_loss: 0.1536 - val_accuracy: 0.9461\n",
      "Epoch 22/30\n",
      "1657/1657 [==============================] - 10s 6ms/step - loss: 0.1500 - accuracy: 0.9432 - val_loss: 0.1459 - val_accuracy: 0.9404\n",
      "Epoch 23/30\n",
      "1657/1657 [==============================] - 9s 6ms/step - loss: 0.1460 - accuracy: 0.9433 - val_loss: 0.1404 - val_accuracy: 0.9451\n",
      "Epoch 24/30\n",
      "1657/1657 [==============================] - 8s 5ms/step - loss: 0.1423 - accuracy: 0.9457 - val_loss: 0.1578 - val_accuracy: 0.9397\n",
      "Epoch 25/30\n",
      "1657/1657 [==============================] - 8s 5ms/step - loss: 0.1387 - accuracy: 0.9465 - val_loss: 0.1276 - val_accuracy: 0.9524\n",
      "Epoch 26/30\n",
      "1657/1657 [==============================] - 9s 5ms/step - loss: 0.1344 - accuracy: 0.9486 - val_loss: 0.1415 - val_accuracy: 0.9496\n",
      "Epoch 27/30\n",
      "1657/1657 [==============================] - 9s 5ms/step - loss: 0.1267 - accuracy: 0.9511 - val_loss: 0.1243 - val_accuracy: 0.9503\n",
      "Epoch 28/30\n",
      "1657/1657 [==============================] - 9s 5ms/step - loss: 0.1272 - accuracy: 0.9512 - val_loss: 0.1086 - val_accuracy: 0.9569\n",
      "Epoch 29/30\n",
      "1657/1657 [==============================] - 9s 5ms/step - loss: 0.1223 - accuracy: 0.9533 - val_loss: 0.1130 - val_accuracy: 0.9581\n",
      "Epoch 30/30\n",
      "1657/1657 [==============================] - 9s 6ms/step - loss: 0.1181 - accuracy: 0.9546 - val_loss: 0.1021 - val_accuracy: 0.9604\n"
     ]
    }
   ],
   "source": [
    "h = model.fit(x_train,y_train,epochs=30,validation_data=(x_valid,y_valid))"
   ]
  },
  {
   "cell_type": "markdown",
   "metadata": {},
   "source": [
    "Plotting the learning curves"
   ]
  },
  {
   "cell_type": "code",
   "execution_count": 10,
   "metadata": {},
   "outputs": [
    {
     "data": {
      "image/png": "[encoded data removed]",
      "text/plain": [
       "<Figure size 800x500 with 1 Axes>"
      ]
     },
     "metadata": {},
     "output_type": "display_data"
    }
   ],
   "source": [
    "pd.DataFrame(h.history).plot(\n",
    "figsize=(8, 5), xlim=[0, 29], ylim=[0, 1], grid=True, xlabel=\"Epoch\",\n",
    "style=[\"r--\", \"r--.\", \"b-\", \"b-*\"])\n",
    "plt.show()"
   ]
  },
  {
   "cell_type": "code",
   "execution_count": 11,
   "metadata": {},
   "outputs": [
    {
     "name": "stdout",
     "output_type": "stream",
     "text": [
      "313/313 [==============================] - 1s 4ms/step - loss: 0.4963 - accuracy: 0.8902\n"
     ]
    },
    {
     "data": {
      "text/plain": [
       "[0.49628570675849915, 0.8902000188827515]"
      ]
     },
     "execution_count": 11,
     "metadata": {},
     "output_type": "execute_result"
    }
   ],
   "source": [
    "model.evaluate(x_test, y_test)"
   ]
  },
  {
   "cell_type": "markdown",
   "metadata": {},
   "source": [
    "Using the model to make predictions"
   ]
  },
  {
   "cell_type": "code",
   "execution_count": 12,
   "metadata": {},
   "outputs": [
    {
     "name": "stdout",
     "output_type": "stream",
     "text": [
      "1/1 [==============================] - 0s 108ms/step\n"
     ]
    },
    {
     "data": {
      "text/plain": [
       "array([[0., 0., 0., 0., 0., 0., 0., 0., 0., 1.],\n",
       "       [0., 0., 1., 0., 0., 0., 0., 0., 0., 0.],\n",
       "       [0., 1., 0., 0., 0., 0., 0., 0., 0., 0.]], dtype=float32)"
      ]
     },
     "execution_count": 12,
     "metadata": {},
     "output_type": "execute_result"
    }
   ],
   "source": [
    "X_new = x_test[:3]\n",
    "y_proba = model.predict(X_new)\n",
    "y_proba.round(2)"
   ]
  },
  {
   "cell_type": "markdown",
   "metadata": {},
   "source": [
    "Comparing test_new and y_proba"
   ]
  },
  {
   "cell_type": "code",
   "execution_count": 13,
   "metadata": {},
   "outputs": [
    {
     "data": {
      "text/plain": [
       "array([9, 2, 1], dtype=int64)"
      ]
     },
     "execution_count": 13,
     "metadata": {},
     "output_type": "execute_result"
    }
   ],
   "source": [
    "y_pred = y_proba.argmax(axis=-1)\n",
    "y_pred"
   ]
  },
  {
   "cell_type": "markdown",
   "metadata": {},
   "source": [
    "y predicted"
   ]
  },
  {
   "cell_type": "code",
   "execution_count": 14,
   "metadata": {},
   "outputs": [
    {
     "data": {
      "text/plain": [
       "('Ankle boot', 'Pullover', 'Trouser')"
      ]
     },
     "execution_count": 14,
     "metadata": {},
     "output_type": "execute_result"
    }
   ],
   "source": [
    "class_names[y_pred[0]], class_names[y_pred[1]], class_names[y_pred[2]]"
   ]
  },
  {
   "cell_type": "markdown",
   "metadata": {},
   "source": [
    "y test"
   ]
  },
  {
   "cell_type": "code",
   "execution_count": 15,
   "metadata": {},
   "outputs": [
    {
     "data": {
      "text/plain": [
       "('Ankle boot', 'Pullover', 'Trouser')"
      ]
     },
     "execution_count": 15,
     "metadata": {},
     "output_type": "execute_result"
    }
   ],
   "source": [
    "y_new = y_test[:3]\n",
    "class_names[y_new[0]], class_names[y_new[1]], class_names[y_new[2]]"
   ]
  },
  {
   "cell_type": "markdown",
   "metadata": {},
   "source": [
    "Building another model adding additional layer"
   ]
  },
  {
   "cell_type": "code",
   "execution_count": 16,
   "metadata": {},
   "outputs": [],
   "source": [
    "tf.random.set_seed(42)\n",
    "model1= tf.keras.models.Sequential([\n",
    "    tf.keras.layers.Flatten(input_shape=[28,28]),\n",
    "    tf.keras.layers.Dense(200,activation=\"relu\"),\n",
    "    tf.keras.layers.Dense(200,activation=\"relu\"),\n",
    "    tf.keras.layers.Dense(100,activation=\"relu\"),\n",
    "    tf.keras.layers.Dense(10,activation=\"softmax\")\n",
    "    \n",
    "])"
   ]
  },
  {
   "cell_type": "code",
   "execution_count": 17,
   "metadata": {},
   "outputs": [
    {
     "name": "stdout",
     "output_type": "stream",
     "text": [
      "Model: \"sequential_1\"\n",
      "_________________________________________________________________\n",
      " Layer (type)                Output Shape              Param #   \n",
      "=================================================================\n",
      " flatten_1 (Flatten)         (None, 784)               0         \n",
      "                                                                 \n",
      " dense_3 (Dense)             (None, 200)               157000    \n",
      "                                                                 \n",
      " dense_4 (Dense)             (None, 200)               40200     \n",
      "                                                                 \n",
      " dense_5 (Dense)             (None, 100)               20100     \n",
      "                                                                 \n",
      " dense_6 (Dense)             (None, 10)                1010      \n",
      "                                                                 \n",
      "=================================================================\n",
      "Total params: 218,310\n",
      "Trainable params: 218,310\n",
      "Non-trainable params: 0\n",
      "_________________________________________________________________\n"
     ]
    }
   ],
   "source": [
    "model1.summary()"
   ]
  },
  {
   "cell_type": "code",
   "execution_count": 18,
   "metadata": {},
   "outputs": [],
   "source": [
    "model1.compile(loss=\"sparse_categorical_crossentropy\",\n",
    "                optimizer=tf.keras.optimizers.Adam(learning_rate=0.0001),\n",
    "                metrics=[\"accuracy\"])"
   ]
  },
  {
   "cell_type": "markdown",
   "metadata": {},
   "source": [
    "Training and evaluation "
   ]
  },
  {
   "cell_type": "code",
   "execution_count": 19,
   "metadata": {},
   "outputs": [
    {
     "name": "stdout",
     "output_type": "stream",
     "text": [
      "Epoch 1/30\n",
      "1657/1657 [==============================] - 9s 5ms/step - loss: 0.6229 - accuracy: 0.7906 - val_loss: 0.4370 - val_accuracy: 0.8473\n",
      "Epoch 2/30\n",
      "1657/1657 [==============================] - 9s 5ms/step - loss: 0.4214 - accuracy: 0.8517 - val_loss: 0.3846 - val_accuracy: 0.8636\n",
      "Epoch 3/30\n",
      "1657/1657 [==============================] - 9s 5ms/step - loss: 0.3785 - accuracy: 0.8660 - val_loss: 0.3469 - val_accuracy: 0.8767\n",
      "Epoch 4/30\n",
      "1657/1657 [==============================] - 8s 5ms/step - loss: 0.3530 - accuracy: 0.8742 - val_loss: 0.3320 - val_accuracy: 0.8797\n",
      "Epoch 5/30\n",
      "1657/1657 [==============================] - 8s 5ms/step - loss: 0.3318 - accuracy: 0.8811 - val_loss: 0.3122 - val_accuracy: 0.8919\n",
      "Epoch 6/30\n",
      "1657/1657 [==============================] - 8s 5ms/step - loss: 0.3165 - accuracy: 0.8853 - val_loss: 0.3063 - val_accuracy: 0.8896\n",
      "Epoch 7/30\n",
      "1657/1657 [==============================] - 8s 5ms/step - loss: 0.3011 - accuracy: 0.8907 - val_loss: 0.3028 - val_accuracy: 0.8913\n",
      "Epoch 8/30\n",
      "1657/1657 [==============================] - 9s 5ms/step - loss: 0.2888 - accuracy: 0.8960 - val_loss: 0.2874 - val_accuracy: 0.8974\n",
      "Epoch 9/30\n",
      "1657/1657 [==============================] - 9s 6ms/step - loss: 0.2789 - accuracy: 0.8991 - val_loss: 0.2721 - val_accuracy: 0.8999\n",
      "Epoch 10/30\n",
      "1657/1657 [==============================] - 9s 6ms/step - loss: 0.2690 - accuracy: 0.9016 - val_loss: 0.2638 - val_accuracy: 0.9044\n",
      "Epoch 11/30\n",
      "1657/1657 [==============================] - 9s 6ms/step - loss: 0.2596 - accuracy: 0.9059 - val_loss: 0.2504 - val_accuracy: 0.9066\n",
      "Epoch 12/30\n",
      "1657/1657 [==============================] - 9s 6ms/step - loss: 0.2500 - accuracy: 0.9082 - val_loss: 0.2399 - val_accuracy: 0.9113\n",
      "Epoch 13/30\n",
      "1657/1657 [==============================] - 9s 6ms/step - loss: 0.2441 - accuracy: 0.9102 - val_loss: 0.2387 - val_accuracy: 0.9104\n",
      "Epoch 14/30\n",
      "1657/1657 [==============================] - 10s 6ms/step - loss: 0.2357 - accuracy: 0.9143 - val_loss: 0.2312 - val_accuracy: 0.9124\n",
      "Epoch 15/30\n",
      "1657/1657 [==============================] - 9s 6ms/step - loss: 0.2281 - accuracy: 0.9176 - val_loss: 0.2330 - val_accuracy: 0.9134\n",
      "Epoch 16/30\n",
      "1657/1657 [==============================] - 9s 6ms/step - loss: 0.2213 - accuracy: 0.9197 - val_loss: 0.2039 - val_accuracy: 0.9251\n",
      "Epoch 17/30\n",
      "1657/1657 [==============================] - 9s 6ms/step - loss: 0.2140 - accuracy: 0.9229 - val_loss: 0.2043 - val_accuracy: 0.9270\n",
      "Epoch 18/30\n",
      "1657/1657 [==============================] - 9s 6ms/step - loss: 0.2076 - accuracy: 0.9249 - val_loss: 0.1995 - val_accuracy: 0.9271\n",
      "Epoch 19/30\n",
      "1657/1657 [==============================] - 9s 5ms/step - loss: 0.2030 - accuracy: 0.9258 - val_loss: 0.1917 - val_accuracy: 0.9300\n",
      "Epoch 20/30\n",
      "1657/1657 [==============================] - 8s 5ms/step - loss: 0.1974 - accuracy: 0.9279 - val_loss: 0.1977 - val_accuracy: 0.9254\n",
      "Epoch 21/30\n",
      "1657/1657 [==============================] - 8s 5ms/step - loss: 0.1908 - accuracy: 0.9288 - val_loss: 0.1843 - val_accuracy: 0.9329\n",
      "Epoch 22/30\n",
      "1657/1657 [==============================] - 8s 5ms/step - loss: 0.1851 - accuracy: 0.9334 - val_loss: 0.1780 - val_accuracy: 0.9329\n",
      "Epoch 23/30\n",
      "1657/1657 [==============================] - 8s 5ms/step - loss: 0.1794 - accuracy: 0.9348 - val_loss: 0.1740 - val_accuracy: 0.9359\n",
      "Epoch 24/30\n",
      "1657/1657 [==============================] - 8s 5ms/step - loss: 0.1728 - accuracy: 0.9372 - val_loss: 0.1767 - val_accuracy: 0.9340\n",
      "Epoch 25/30\n",
      "1657/1657 [==============================] - 9s 5ms/step - loss: 0.1701 - accuracy: 0.9385 - val_loss: 0.1548 - val_accuracy: 0.9423\n",
      "Epoch 26/30\n",
      "1657/1657 [==============================] - 9s 6ms/step - loss: 0.1643 - accuracy: 0.9408 - val_loss: 0.1579 - val_accuracy: 0.9473\n",
      "Epoch 27/30\n",
      "1657/1657 [==============================] - 9s 5ms/step - loss: 0.1597 - accuracy: 0.9425 - val_loss: 0.1643 - val_accuracy: 0.9401\n",
      "Epoch 28/30\n",
      "1657/1657 [==============================] - 9s 6ms/step - loss: 0.1545 - accuracy: 0.9445 - val_loss: 0.1555 - val_accuracy: 0.9414\n",
      "Epoch 29/30\n",
      "1657/1657 [==============================] - 9s 6ms/step - loss: 0.1497 - accuracy: 0.9458 - val_loss: 0.1405 - val_accuracy: 0.9503\n",
      "Epoch 30/30\n",
      "1657/1657 [==============================] - 9s 6ms/step - loss: 0.1454 - accuracy: 0.9477 - val_loss: 0.1343 - val_accuracy: 0.9534\n"
     ]
    }
   ],
   "source": [
    "h1 = model1.fit(x_train,y_train,epochs=30,validation_data=(x_valid,y_valid))"
   ]
  },
  {
   "cell_type": "markdown",
   "metadata": {},
   "source": [
    "Plotting learning curves "
   ]
  },
  {
   "cell_type": "code",
   "execution_count": 20,
   "metadata": {},
   "outputs": [
    {
     "data": {
      "image/png": "[encoded data removed]",
      "text/plain": [
       "<Figure size 800x500 with 1 Axes>"
      ]
     },
     "metadata": {},
     "output_type": "display_data"
    }
   ],
   "source": [
    "pd.DataFrame(h1.history).plot(\n",
    "figsize=(8, 5), xlim=[0, 29], ylim=[0, 1], grid=True, xlabel=\"Epoch\",\n",
    "style=[\"r--\", \"r--.\", \"b-\", \"b-*\"])\n",
    "plt.show()"
   ]
  },
  {
   "cell_type": "code",
   "execution_count": 21,
   "metadata": {},
   "outputs": [
    {
     "name": "stdout",
     "output_type": "stream",
     "text": [
      "313/313 [==============================] - 1s 4ms/step - loss: 0.3490 - accuracy: 0.8890\n"
     ]
    },
    {
     "data": {
      "text/plain": [
       "[0.3489786386489868, 0.8889999985694885]"
      ]
     },
     "execution_count": 21,
     "metadata": {},
     "output_type": "execute_result"
    }
   ],
   "source": [
    "model1.evaluate(x_test, y_test)"
   ]
  },
  {
   "cell_type": "code",
   "execution_count": null,
   "metadata": {},
   "outputs": [],
   "source": []
  }
 ],
 "metadata": {
  "kernelspec": {
   "display_name": "gputf_env",
   "language": "python",
   "name": "python3"
  },
  "language_info": {
   "codemirror_mode": {
    "name": "ipython",
    "version": 3
   },
   "file_extension": ".py",
   "mimetype": "text/x-python",
   "name": "python",
   "nbconvert_exporter": "python",
   "pygments_lexer": "ipython3",
   "version": "3.10.16"
  }
 },
 "nbformat": 4,
 "nbformat_minor": 2
}
